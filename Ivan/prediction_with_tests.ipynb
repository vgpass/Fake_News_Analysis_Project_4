{
 "cells": [
  {
   "cell_type": "code",
   "execution_count": 72,
   "metadata": {},
   "outputs": [],
   "source": [
    "import numpy as np\n",
    "import pandas as pd\n",
    "\n",
    "from sklearn.model_selection import train_test_split\n",
    "from sklearn.feature_extraction.text import TfidfVectorizer\n",
    "from sklearn.svm import LinearSVC\n",
    "from sklearn.metrics import confusion_matrix\n",
    "from sklearn.metrics import classification_report"
   ]
  },
  {
   "cell_type": "code",
   "execution_count": 73,
   "metadata": {},
   "outputs": [],
   "source": [
    "## Reading in the cleaned news article csv file, setting index to the Unnamed index column\n",
    "news_df = pd.read_csv('../Ivan/clean_output.csv', index_col='Unnamed: 0')"
   ]
  },
  {
   "cell_type": "code",
   "execution_count": 74,
   "metadata": {},
   "outputs": [
    {
     "data": {
      "text/html": [
       "<div>\n",
       "<style scoped>\n",
       "    .dataframe tbody tr th:only-of-type {\n",
       "        vertical-align: middle;\n",
       "    }\n",
       "\n",
       "    .dataframe tbody tr th {\n",
       "        vertical-align: top;\n",
       "    }\n",
       "\n",
       "    .dataframe thead th {\n",
       "        text-align: right;\n",
       "    }\n",
       "</style>\n",
       "<table border=\"1\" class=\"dataframe\">\n",
       "  <thead>\n",
       "    <tr style=\"text-align: right;\">\n",
       "      <th></th>\n",
       "      <th>cleaned_title</th>\n",
       "      <th>cleaned_text</th>\n",
       "      <th>target</th>\n",
       "    </tr>\n",
       "  </thead>\n",
       "  <tbody>\n",
       "    <tr>\n",
       "      <th>0</th>\n",
       "      <td>smell hillarys fear</td>\n",
       "      <td>daniel greenfield shillman journalism fellow f...</td>\n",
       "      <td>1</td>\n",
       "    </tr>\n",
       "    <tr>\n",
       "      <th>1</th>\n",
       "      <td>watch exact moment paul ryan committed politic...</td>\n",
       "      <td>google pinterest digg linkedin reddit stumbleu...</td>\n",
       "      <td>1</td>\n",
       "    </tr>\n",
       "    <tr>\n",
       "      <th>2</th>\n",
       "      <td>kerry go paris gesture sympathy</td>\n",
       "      <td>yous secretary state john f kerry said monday ...</td>\n",
       "      <td>0</td>\n",
       "    </tr>\n",
       "    <tr>\n",
       "      <th>3</th>\n",
       "      <td>bernie supporters twitter erupt anger dnc trie...</td>\n",
       "      <td>kaydee king kaydeeking november 9 2016 lesson ...</td>\n",
       "      <td>1</td>\n",
       "    </tr>\n",
       "    <tr>\n",
       "      <th>4</th>\n",
       "      <td>battle new york primary matters</td>\n",
       "      <td>primary day new york frontrunners hillary clin...</td>\n",
       "      <td>0</td>\n",
       "    </tr>\n",
       "    <tr>\n",
       "      <th>...</th>\n",
       "      <td>...</td>\n",
       "      <td>...</td>\n",
       "      <td>...</td>\n",
       "    </tr>\n",
       "    <tr>\n",
       "      <th>6330</th>\n",
       "      <td>state department says cannot find emails clint...</td>\n",
       "      <td>state department told republican national comm...</td>\n",
       "      <td>0</td>\n",
       "    </tr>\n",
       "    <tr>\n",
       "      <th>6331</th>\n",
       "      <td>p pbs stand plutocratic pentagon</td>\n",
       "      <td>p pbs stand plutocratic pentagon posted oct 27...</td>\n",
       "      <td>1</td>\n",
       "    </tr>\n",
       "    <tr>\n",
       "      <th>6332</th>\n",
       "      <td>antitrump protesters tools oligarchy information</td>\n",
       "      <td>antitrump protesters tools oligarchy reform al...</td>\n",
       "      <td>1</td>\n",
       "    </tr>\n",
       "    <tr>\n",
       "      <th>6333</th>\n",
       "      <td>ethiopia obama seeks progress peace security e...</td>\n",
       "      <td>addis ababa ethiopia president obama convened ...</td>\n",
       "      <td>0</td>\n",
       "    </tr>\n",
       "    <tr>\n",
       "      <th>6334</th>\n",
       "      <td>jeb bush suddenly attacking trump matters</td>\n",
       "      <td>jeb bush suddenly attacking trump matters jeb ...</td>\n",
       "      <td>0</td>\n",
       "    </tr>\n",
       "  </tbody>\n",
       "</table>\n",
       "<p>6335 rows × 3 columns</p>\n",
       "</div>"
      ],
      "text/plain": [
       "                                          cleaned_title  \\\n",
       "0                                   smell hillarys fear   \n",
       "1     watch exact moment paul ryan committed politic...   \n",
       "2                       kerry go paris gesture sympathy   \n",
       "3     bernie supporters twitter erupt anger dnc trie...   \n",
       "4                       battle new york primary matters   \n",
       "...                                                 ...   \n",
       "6330  state department says cannot find emails clint...   \n",
       "6331                   p pbs stand plutocratic pentagon   \n",
       "6332   antitrump protesters tools oligarchy information   \n",
       "6333  ethiopia obama seeks progress peace security e...   \n",
       "6334          jeb bush suddenly attacking trump matters   \n",
       "\n",
       "                                           cleaned_text  target  \n",
       "0     daniel greenfield shillman journalism fellow f...       1  \n",
       "1     google pinterest digg linkedin reddit stumbleu...       1  \n",
       "2     yous secretary state john f kerry said monday ...       0  \n",
       "3     kaydee king kaydeeking november 9 2016 lesson ...       1  \n",
       "4     primary day new york frontrunners hillary clin...       0  \n",
       "...                                                 ...     ...  \n",
       "6330  state department told republican national comm...       0  \n",
       "6331  p pbs stand plutocratic pentagon posted oct 27...       1  \n",
       "6332  antitrump protesters tools oligarchy reform al...       1  \n",
       "6333  addis ababa ethiopia president obama convened ...       0  \n",
       "6334  jeb bush suddenly attacking trump matters jeb ...       0  \n",
       "\n",
       "[6335 rows x 3 columns]"
      ]
     },
     "execution_count": 74,
     "metadata": {},
     "output_type": "execute_result"
    }
   ],
   "source": [
    "news_df\n",
    "#0 = real  1= fake"
   ]
  },
  {
   "cell_type": "code",
   "execution_count": 32,
   "metadata": {},
   "outputs": [],
   "source": [
    "#news_df.dropna(inplace=True)"
   ]
  },
  {
   "cell_type": "code",
   "execution_count": 75,
   "metadata": {},
   "outputs": [],
   "source": [
    "## Setting our feature and target for the model\n",
    "X = news_df['cleaned_text'].astype('U')\n",
    "y= news_df['target']"
   ]
  },
  {
   "cell_type": "code",
   "execution_count": 76,
   "metadata": {},
   "outputs": [],
   "source": [
    "X_train, X_test, y_train, y_test = train_test_split(X,y)"
   ]
  },
  {
   "cell_type": "code",
   "execution_count": 77,
   "metadata": {},
   "outputs": [
    {
     "name": "stdout",
     "output_type": "stream",
     "text": [
      "4751\n",
      "1584\n"
     ]
    }
   ],
   "source": [
    "# Size of our training data vs testing data\n",
    "print(len(X_train))\n",
    "print(len(X_test))"
   ]
  },
  {
   "cell_type": "code",
   "execution_count": 78,
   "metadata": {},
   "outputs": [],
   "source": [
    "## Creating vectorizing instance (It considers overall document weightage of a word. It helps us in dealing with most frequent words. \n",
    "# Using it we can penalize them. TfidfVectorizer weights the word counts by a measure of how often they appear in the documents.)\n",
    "vectorizer = TfidfVectorizer(stop_words='english')\n",
    "X_train_vectorized = vectorizer.fit_transform(X_train)\n",
    "X_test_vectorized = vectorizer.transform(X_test)\n"
   ]
  },
  {
   "cell_type": "code",
   "execution_count": 79,
   "metadata": {},
   "outputs": [
    {
     "name": "stdout",
     "output_type": "stream",
     "text": [
      "  (0, 74901)\t0.04327314486695445\n",
      "  (0, 74879)\t0.04151114663872519\n",
      "  (0, 74497)\t0.21151668553213906\n",
      "  (0, 73724)\t0.06199663110681829\n",
      "  (0, 73720)\t0.11492176697406718\n",
      "  (0, 71821)\t0.0338277828227259\n",
      "  (0, 71167)\t0.055670723097250935\n",
      "  (0, 71139)\t0.05098734288199786\n",
      "  (0, 71004)\t0.1900607850314956\n",
      "  (0, 70783)\t0.06966393242765334\n",
      "  (0, 70244)\t0.0950303925157478\n",
      "  (0, 69848)\t0.11788248332832116\n",
      "  (0, 69665)\t0.09176324476216881\n",
      "  (0, 69360)\t0.07293108018123232\n",
      "  (0, 69098)\t0.06009943128208837\n",
      "  (0, 69048)\t0.06427560805627067\n",
      "  (0, 68664)\t0.07348518031651144\n",
      "  (0, 68579)\t0.25622340058515625\n",
      "  (0, 68430)\t0.019465392731335282\n",
      "  (0, 66357)\t0.08135711420021081\n",
      "  (0, 65537)\t0.07050556184404635\n",
      "  (0, 65397)\t0.07141459086464967\n",
      "  (0, 64718)\t0.032930727234940914\n",
      "  (0, 64138)\t0.053424055700106214\n",
      "  (0, 63737)\t0.05893787085082991\n",
      "  :\t:\n",
      "  (1583, 29712)\t0.03916404742454179\n",
      "  (1583, 29459)\t0.31269750393375717\n",
      "  (1583, 27501)\t0.13496269329566185\n",
      "  (1583, 27475)\t0.09962781526025105\n",
      "  (1583, 26824)\t0.08117484956631969\n",
      "  (1583, 25285)\t0.07516999511927755\n",
      "  (1583, 25215)\t0.07025396198811742\n",
      "  (1583, 23259)\t0.1025711285431192\n",
      "  (1583, 22304)\t0.10605232927779125\n",
      "  (1583, 21930)\t0.24478352741045328\n",
      "  (1583, 20856)\t0.13879424774678725\n",
      "  (1583, 20335)\t0.05590993274445221\n",
      "  (1583, 19567)\t0.10493975778961027\n",
      "  (1583, 13873)\t0.064615168957653\n",
      "  (1583, 13757)\t0.11580590185589923\n",
      "  (1583, 12825)\t0.050653334433046066\n",
      "  (1583, 12365)\t0.16751271324661013\n",
      "  (1583, 12260)\t0.1080640557623778\n",
      "  (1583, 11959)\t0.2508187068642129\n",
      "  (1583, 11675)\t0.07610158191755914\n",
      "  (1583, 10238)\t0.05052785484568055\n",
      "  (1583, 8448)\t0.05090679490480128\n",
      "  (1583, 7437)\t0.07634175793749785\n",
      "  (1583, 4462)\t0.0545502784748806\n",
      "  (1583, 3967)\t0.05442204601287659\n"
     ]
    }
   ],
   "source": [
    "print(X_test_vectorized)"
   ]
  },
  {
   "cell_type": "code",
   "execution_count": 80,
   "metadata": {},
   "outputs": [
    {
     "data": {
      "text/plain": [
       "LinearSVC()"
      ]
     },
     "execution_count": 80,
     "metadata": {},
     "output_type": "execute_result"
    }
   ],
   "source": [
    "#Creating an instance of Linear SVC model and fitting it to vectorized training data\n",
    "clf = LinearSVC()\n",
    "clf.fit(X_train_vectorized,y_train)"
   ]
  },
  {
   "cell_type": "code",
   "execution_count": 81,
   "metadata": {},
   "outputs": [
    {
     "data": {
      "text/plain": [
       "0.9406565656565656"
      ]
     },
     "execution_count": 81,
     "metadata": {},
     "output_type": "execute_result"
    }
   ],
   "source": [
    "X_test_vectorized_predict = clf.predict(X_test_vectorized)\n",
    "## Linear Support Vector Classifier Accuracy score\n",
    "clf.score(X_test_vectorized,y_test)"
   ]
  },
  {
   "cell_type": "code",
   "execution_count": 82,
   "metadata": {},
   "outputs": [
    {
     "name": "stdout",
     "output_type": "stream",
     "text": [
      "[[741  63]\n",
      " [ 31 749]]\n"
     ]
    }
   ],
   "source": [
    "## Creating a confusion matrix and printing its results\n",
    "cm = confusion_matrix(y_test, X_test_vectorized_predict)\n",
    "print(cm)"
   ]
  },
  {
   "cell_type": "code",
   "execution_count": 83,
   "metadata": {},
   "outputs": [
    {
     "name": "stdout",
     "output_type": "stream",
     "text": [
      "              precision    recall  f1-score   support\n",
      "\n",
      "           0       0.96      0.92      0.94       804\n",
      "           1       0.92      0.96      0.94       780\n",
      "\n",
      "    accuracy                           0.94      1584\n",
      "   macro avg       0.94      0.94      0.94      1584\n",
      "weighted avg       0.94      0.94      0.94      1584\n",
      "\n"
     ]
    }
   ],
   "source": [
    "# Creating and saving the testing classification report\n",
    "testing_report = classification_report(y_test, X_test_vectorized_predict)\n",
    "\n",
    "# Printing the testing classification report\n",
    "print(testing_report)"
   ]
  },
  {
   "cell_type": "code",
   "execution_count": 84,
   "metadata": {},
   "outputs": [],
   "source": [
    "news_test = \"In an ongoing effort to secure an actual job that would allow him to earn an actual living, reports confirmed Tuesday that local man Tim Upshaw, 36, was earnestly looking for career opportunities on a website called something like Job-a-Dabba-Doo.com. According to sources, the site—which has a humiliating name along the lines of Careerin-to-Go or Hobnob4Jobs or M-Ploid or some bullshit—must be visited multiple times a day by Upshaw, a grown man with a master’s degree in economics and more than a decade of legitimate work experience. Upshaw is reportedly required to engage with the site to see if he has received any Gig-o-Grams alerting him to job openings and to “Network it out!” with a list of professional contacts, whose replies to his posts cause a loud, synthesized horn-honk to blast from his phone. At press time, sources indicated Upshaw was depressed after receiving his third consecutive Womp-Womp from a prospective employer.\""
   ]
  },
  {
   "cell_type": "code",
   "execution_count": 85,
   "metadata": {},
   "outputs": [],
   "source": [
    "import nltk\n",
    "\n",
    "stopword_list = nltk.corpus.stopwords.words('english')\n",
    "\n",
    "from nltk.tokenize.toktok import ToktokTokenizer\n",
    "tokenizer = ToktokTokenizer( )\n",
    "def remove_stopwords(text, is_lower_case=False):\n",
    "     tokens = tokenizer.tokenize(text)\n",
    "     tokens = [token.strip( ) for token in tokens] # List comprehension: loop through every token and strip white space\n",
    "     filtered_tokens = [token for token in tokens if token not in stopword_list] # Keep only the non stop word tokens in the list\n",
    "     filtered_text = ' '.join(filtered_tokens) # join all those tokens using a space as a delimiter\n",
    "    \n",
    "     return filtered_text"
   ]
  },
  {
   "cell_type": "code",
   "execution_count": 86,
   "metadata": {},
   "outputs": [],
   "source": [
    "import contractions\n",
    "import regex as re\n",
    "import string"
   ]
  },
  {
   "cell_type": "code",
   "execution_count": 87,
   "metadata": {},
   "outputs": [],
   "source": [
    "cleaned_text_list = []\n",
    "\n",
    "news_test = contractions.fix(news_test)\n",
    "news_test = news_test.lower()\n",
    "news_test = re.sub('[^a-zA-z0-9\\s]', '' , news_test)\n",
    "news_test = news_test.translate(str.maketrans('','',string.punctuation))\n",
    "filtered = remove_stopwords(news_test)\n",
    "cleaned_text_list.append(filtered)"
   ]
  },
  {
   "cell_type": "code",
   "execution_count": 88,
   "metadata": {},
   "outputs": [
    {
     "data": {
      "text/plain": [
       "array([1], dtype=int64)"
      ]
     },
     "execution_count": 88,
     "metadata": {},
     "output_type": "execute_result"
    }
   ],
   "source": [
    "import numpy as np\n",
    "test = np.asarray(cleaned_text_list)\n",
    "test_vectorized = vectorizer.transform(test)\n"
   ]
  },
  {
   "cell_type": "code",
   "execution_count": 89,
   "metadata": {},
   "outputs": [
    {
     "data": {
      "text/plain": [
       "array([1], dtype=int64)"
      ]
     },
     "execution_count": 89,
     "metadata": {},
     "output_type": "execute_result"
    }
   ],
   "source": [
    "clf.predict(test_vectorized)"
   ]
  },
  {
   "cell_type": "code",
   "execution_count": 94,
   "metadata": {},
   "outputs": [],
   "source": [
    "#test_list = ['In what a judge overseeing the case said he hoped would be a precedent, Hutchinson Correctional Facility prisoner Brett Dailey was given an extra 10 years in prison for good behavior Tuesday so he could serve as a role model for his fellow inmates. “Mr. Dailey has been an exemplary inmate from the first day he arrived here, and we just can’t let someone like that go,” Judge Erick Hastings wrote in the ruling, adding that society could ill afford to have someone as thoughtful and good at problem-solving as Dailey walking the streets when he had so much he could still teach to other incarcerated men. “We’ve seen phenomenal progress from Mr. Dailey during his long stint at the facility library, and he is unfailingly positive in his interactions with other inmates, often serving as a peacemaker in solving long-standing conflicts. Due to his good behavior, Mr. Dailey will be paired with our most hardened and angry inmates over the next several years in hopes that he’ll rub off on them. The state simply cannot grant parole to an inmate of his caliber. Who knows what kind of violent hell this place might descend into without him. We will review Mr. Dailey’s sentencing terms again in 2033, although if he’s still behaving this well, it’s highly unlikely we’d let him go.” Those who know the prisoner say they aren’t surprised at his good behavior, nothing that several months ago he had been completely exonerated of the crime he’d been imprisoned for.',\n",
    "#             'The high price of eggs and other breakfast staples is forcing some to look for cheaper breakfast alternatives. How about ramen? Cup Noodles, the budget-friendly food company, has created a breakfast version of their instant ramen, which mixes together the flavors of sausage, maple syrup pancakes and eggs in a saucy texture designed to come to life with water. Aptly titled “Cup Noodles Breakfast,” the meal takes four minutes to cook in the microwave and results in a soup-based ramen that also contains “visible ingredients” of sausage and eggs. Eaters are encouraged by the company to customize it with hot sauce, more syrup or even rice.Priscila Stanton, senior vice president and marketing for Nissin Foods USA, compared it to a “classic diner breakfast in a cup,” without the hassle of making a full meal with all of those ingredients. “This idea was about how you bring all of those great breakfast cravings into a cup,” she told CNN. The company’s research discovered that eggs, sausage and pancakes were the picks to create the best breakfast combination. Nissin moving into breakfast isn’t a “great leap” for the company, said Neil Saunders, an analyst at GlobalData Retail.“The wacky mix of ingredients is on brand for Cup Noodle, which often fuses traditional noodles with local flavors that it thinks will be appealing to consumers,” he told CNN. Also, American eaters may be “turned off” from traditional ramen flavors, but “will be more interested in sweet flavors they associate with traditional breakfasts.”“Cup Noodles Breakfast” goes on sale for $1.18 beginning Wednesday at select Walmart stores and on the retailer’s website. Nissin entered the the battle for breakfast because it saw its affordability and convenience as an advantage, especially as inflation takes a toll on food prices. After all, egg prices in February are 55% higher than they were last year despite declining in price in recent months. And other brands known for breakfast, like cereal makers Kellogg (K) and Post Brands, increased prices last year. “Breakfast has been this discussion point about how do you really leverage this moment in the consumer’s day to day,” Stanton said.“It’s no longer a time of day where consumers sit down and have a full meal — that’s long gone. There are quick service restaurant options out there, but consumers are looking for more things from the grocery store and have readily available,” she said. People between 18 to 34 years old are “considerably more likely than their older counterparts” to choose a more convenient breakfast, such as cereal or fast food, because it’s easier to eat during their morning hustle, according to Paige Leyden, Mintel’s associate director of foodservice, flavors and ingredients. Covid-19 sparked a “sharp rise in the number of people having more formal ‘sit down’ breakfasts at home,” Saunders added. However, that has since faded as people returned to the office or even work from home where they “eat at their home desks to start the day,” he said. Stanton added that the product’s $1.18 price makes it a “trifecta” of consumer wants: a flavorful product, convenience and value. “There aren’t as many options out that that deliver all three elements, so we compare ourselves to what other meals consumers can actually have access to and we’re such a bargain,” she said. On the other hand, consumers might be turned off by floating pieces of sausage in their ramen. Breakfast ramen is Cup Noodles second limited time offering, following the sale of pumpkin spice ramen last fall. Stanton said that flavor sold “very well” for the 65-year-old company, showing that there’s “a lot of openness with our consumers” about wacky flavors. “Part of the fun is getting people to have that conversation about whether something is going to be amazing or not,” she said. “The challenge for our consumers is to make decisions and to try to let us know what they think.”',\n",
    "#             'Looking for a fun diversion on a boring Wednesday afternoon, a group of high-powered D.C. lobbyists reportedly paid a couple senators five bucks to fight each other. “Here it is, a crisp fiver to the winner—now fight, you fucking losers,” said U.S. Chamber of Commerce CEO Suzanne Clark as members of Ernst and Young, BGR Group, and several other lobbying firms formed a circle around bruised, bloody-knuckled Sens. Ron Johnson (R-WI) and Chuck Schumer (D-NY). “Anything goes, okay? Scratching, biting, kneeing each other in the balls. Do whatever you want, we don’t give a fuck. Whoever wins this brawl can use this five bucks for their reelection campaign or a pet project in their district. But you can’t stop till we say so. Jesus, you guys are so fucking pathetic. This is worse than the time we gave [Sen. Tommy] Tuberville (R-AL) 25 cents to eat dog shit. Okay, let’s make this more interesting. An extra dollar for every good eye-gouge you can get.” At press time, sources confirmed Sen. Tim Kaine (D-VA) had been beaten to death and the lobbyists were posing for pictures with his corpse.',\n",
    "#             'The U.S. Senate passed a resolution on Wednesday ending the COVID-19 national emergency that was declared over three years ago, sending the bill to President Biden’s desk. HJ Res 7 passed 68-23 with broad bipartisan support, as 21 Democrats joined 47 Republicans in voting in favor of it. Four Republicans and five Democrats did not vote, while 23 Democrats voted against it. The short resolution, introduced by Rep. Paul Gosar, R-Ariz., passed the House on a 229-197 vote last month. President Biden voiced opposition to the bill as it made its way through Congress, but a White House spokesperson confirmed on Wednesday that Biden will not veto it. \"The President strongly opposes HJ Res 7, and the administration is planning to wind down the COVID national emergency and public health emergency on May 11,\" the spokesperson told Fox News Digital on Wednesday. \"If this bill comes to his desk, however, he will sign it, and the administration will continue working with agencies to wind down the national emergency with as much notice as possible to Americans who could potentially be impacted.\" Biden previously argued that \"an orderly transition is critical to the health and safety of the Nation,\" urging lawmakers to allow the emergency to expire in May. Former President Trump first declared the national emergency on March 13, 2020, at the outset of the coronavirus pandemic. The public health emergency, which is separate from the national emergency, is set to expire on May 11.']"
   ]
  },
  {
   "cell_type": "code",
   "execution_count": 100,
   "metadata": {},
   "outputs": [],
   "source": [
    "test_list = ['U.S. Secretary of State John F. Kerry said Monday that he will stop in Paris later this week, amid criticism that no top American officials attended Sunday’s unity march against terrorism.\\n\\nKerry said he expects to arrive in Paris Thursday evening, as he heads home after a week abroad. He said he will fly to France at the conclusion of a series of meetings scheduled for Thursday in Sofia, Bulgaria. He plans to meet the next day with Foreign Minister Laurent Fabius and President Francois Hollande, then return to Washington.\\n\\nThe visit by Kerry, who has family and childhood ties to the country and speaks fluent French, could address some of the criticism that the United States snubbed France in its darkest hour in many years.\\n\\nThe French press on Monday was filled with questions about why neither President Obama nor Kerry attended Sunday’s march, as about 40 leaders of other nations did. Obama was said to have stayed away because his own security needs can be taxing on a country, and Kerry had prior commitments.\\n\\nAmong roughly 40 leaders who did attend was Israeli Prime Minister Benjamin Netanyahu, no stranger to intense security, who marched beside Hollande through the city streets. The highest ranking U.S. officials attending the march were Jane Hartley, the ambassador to France, and Victoria Nuland, the assistant secretary of state for European affairs. Attorney General Eric H. Holder Jr. was in Paris for meetings with law enforcement officials but did not participate in the march.\\n\\nKerry spent Sunday at a business summit hosted by India’s prime minister, Narendra Modi. The United States is eager for India to relax stringent laws that function as barriers to foreign investment and hopes Modi’s government will act to open the huge Indian market for more American businesses.\\n\\nIn a news conference, Kerry brushed aside criticism that the United States had not sent a more senior official to Paris as “quibbling a little bit.” He noted that many staffers of the American Embassy in Paris attended the march, including the ambassador. He said he had wanted to be present at the march himself but could not because of his prior commitments in India.\\n\\n“But that is why I am going there on the way home, to make it crystal clear how passionately we feel about the events that have taken place there,” he said.\\n\\n“And I don’t think the people of France have any doubts about America’s understanding of what happened, of our personal sense of loss and our deep commitment to the people of France in this moment of trauma.”',\n",
    "             'It\\'s primary day in New York and front-runners Hillary Clinton and Donald Trump are leading in the polls.\\n\\nTrump is now vowing to win enough delegates to clinch the Republican nomination and prevent a contested convention. But Sens.Ted Cruz, R-Texas, Bernie Sanders, D-Vt., and Ohio Gov. John Kasich and aren\\'t giving up just yet.\\n\\nA big win in New York could tip the scales for both the Republican and Democratic front-runners in this year\\'s race for the White House. Clinton and Trump have each suffered losses in recent contests, shifting the momentum to their rivals.\\n\\n\"We have won eight out of the last nine caucuses and primaries! Cheer!\" Sanders recently told supporters.\\n\\nWhile wins in New York for Trump and Clinton are expected, the margins of those victories are also important.\\n\\nTrump needs to capture more than 50 percent of the vote statewide if he wants to be positioned to win all of the state\\'s 95 GOP delegates. That would put him one step closer to avoiding a contested convention.\\n\\n\"We\\'ve got to vote and you know Cruz is way, way down in the polls,\" Trump urged supporters.\\n\\nMeanwhile, Sanders is hoping for a close race in the Empire State. A loss by 10 points means he\\'ll need to win 80 percent of the remaining delegates to clinch the nomination.\\n\\nDespite a predicted loss in New York, Cruz hasn\\'t lost momentum. He\\'s hoping to sweep up more delegates this weekend while he\\'s talking about how he can win in November.\\n\\n\"Because if I\\'m the nominee, we win the General Election,\" Cruz promised his supporters. \"We\\'re beating Hillary in the key swing states, we\\'re beating Hillary with Independents, we\\'re beating Hillary with young people.\"\\n\\nFor now, Cruz, Kasich, and Sanders have all moved on from New York to other states. Trump and Clinton are the only two staying in their home state to watch the results come in.',\n",
    "             'A Czech stockbroker who saved more than 650 Jewish children from Nazi Germany has died at the age of 106. Dubbed “Britain’s Schindler,” Nicholas Winton arranged to transport Jewish youngsters from Prague after Germany annexed Czechoslovakia in March 1939. Though the children were originally set to arrive in Britain by plane, the German invasion forced Winton to transport them by train through Germany before they eventually reached England by boat. Winton arranged eight trains, known as the Kindertransports (children’s transports), to evacuate the children, and died on the anniversary of the 1939 departure of the one carrying the largest number of children: 241. Winton was knighted by Queen Elizabeth II in 2003 for his efforts, despite keeping it secret for nearly 50 years.',\n",
    "             'Hillary Clinton and Donald Trump made some inaccurate claims during an NBC “commander-in-chief” forum on military and veterans issues:\\n\\n• Clinton wrongly claimed Trump supported the war in Iraq after it started, while Trump was wrong, once again, in saying he was against the war before it started.\\n\\n•\\xa0Trump said that President Obama set a “certain date” for withdrawing troops from Iraq, when that date was set before Obama was sworn in.\\n\\n•\\xa0Trump said that Obama’s visits to China, Saudi Arabia and Cuba were “the first time in the history, the storied history of Air Force One” when “high officials” of a host country did not appear to greet the president. Not true.\\n\\n•\\xa0Clinton said that Trump supports privatizing the Veterans Health Administration. That’s false. Trump said he supports allowing veterans to seek care at either public or private hospitals.\\n\\n•\\xa0Trump said Clinton made “a terrible mistake on Libya” when she was secretary of State. But, at the time, Trump also supported U.S. action that led to the removal of Moammar Gadhafi from power.\\n\\n•\\xa0Trump cherry-picked Clinton’s words when he claimed Clinton said “vets are being treated, essentially, just fine.” Clinton had said the problems in the Department of Veterans Affairs were not as “widespread” as some Republicans claimed, but she went on to acknowledge problems, including the issue of wait times for doctors.\\n\\nThe forum, sponsored by NBC News and the Iraq and Afghanistan Veterans of America, was held Sept. 7 at the Intrepid Sea, Air & Space Museum in New York City. Today\\xa0show host Matt Lauer, and members of the military and veterans in the audience, questioned the candidates separately.\\n\\nTrump said he “was totally against the war in Iraq,” while Clinton claimed that he supported the Iraq War before and after it started. The facts don’t support either candidate’s strong assertions.\\n\\nOur review of Trump’s statements before and after the Iraq War started found no evidence that Trump opposed the war before it started. In fact, he expressed mild support for invading Iraq when asked about it on the Howard Stern radio show on Sept. 11, 2002 — about six months before the war started.\\n\\nStern asked Trump if he supported a war with Iraq, and Trump responded, “Yeah, I guess so.”\\n\\nIn the NBC commander in chief forum, Trump cited an Esquire article that appeared in August 2004 to show his opposition to the war. But that article appeared 17 months after the war started.\\n\\nAs for Clinton, who as a senator voted in October 2002 to authorize the war in Iraq, the Democratic nominee claimed that Trump “supported it before it happened, he supported it as it was happening and he is on record as supporting it after it happened.”\\n\\nBut just as there is no evidence that Trump opposed the Iraq War before it started, the Clinton campaign offered no evidence that Trump supported the war “after it happened.”\\n\\nThe Clinton campaign cited Trump’s interview on March 21, 2003, with Neil Cavuto of Fox Business just two days after the war started.\\n\\nCavuto asked Trump about the impact of the war on the stock market. Trump said the war “looks like a tremendous success from a military standpoint,” and he predicted the market will “go up like a rocket” after the war. But Cavuto does not ask Trump whether the U.S. should have gone to war with Iraq or whether he supports the war, and Trump doesn’t offer an opinion.\\n\\nAs early as July 2003, Trump expressed concern on Hardball with Chris Matthews\\xa0about money being spent in Iraq rather than in the U.S. Two months later, Trump told MSNBC’s Joe Scarborough, “I guess maybe if I had to do it, I would have fought terrorism but not necessarily Iraq.”\\n\\nClinton invited her audience to read Trump’s comments on the Iraq War. They can read our timeline, “Donald Trump and the Iraq War.”\\n\\nTrump said President Obama set a “certain date” for withdrawing troops from Iraq, but that date was actually set by President George W. Bush.\\n\\nNBC’s Matt Lauer asked Trump about his tendency to respond, when pushed for details on his military proposals, that he’s not going to give details because he wants to be “unpredictable.” Trump responded, “Absolutely,” and went on to criticize Obama for revealing the withdrawal date.\\n\\nAs we said then, Republicans and Democrats disagree on whether Obama or Bush is to blame for withdrawing all combat troops from Iraq at the end of 2011. But that date was set when Bush signed the Status of Forces Agreement on Dec. 14, 2008. It said: “All the United States Forces shall withdraw from all Iraqi territory no later than December 31, 2011.”\\n\\nIn the NBC forum, Trump also called the withdrawal of troops “a terrible decision.” As we’ve explained before, Condoleezza Rice, Bush’s secretary of State, later wrote that Bush wanted an agreement for a residual force to remain, but Iraqi Prime Minister Nouri al-Maliki objected.\\n\\nOnce Obama took office in January 2009, he had three years to renegotiate the deal, which his administration tried to do, to leave a residual American troop force. But Maliki still didn’t agree. Negotiations broke down in October 2011 over the issue of whether U.S. troops would be shielded from criminal prosecution by Iraqi authorities. Whether Obama did enough is a matter of opinion: His then defense secretary, Leon Panetta, later wrote that the president didn’t press hard enough for a deal. But some experts say Iraq was more closely aligned at the time with Iran and there wasn’t a deal to be made with Maliki.\\n\\nSo, both presidents had a role in the withdrawal of troops. But Trump wrongly said that Obama was the one who set a “certain date” for withdrawal and let U.S. enemies know about it, when that date was set before Obama was sworn in.\\n\\nIt’s worth noting that Trump said in a March 16, 2007, interview on CNN that the troops should be withdrawn quickly from Iraq.\\n\\nTrump said that Obama’s visits to China, Saudi Arabia and Cuba were “the first time in the history, the storied history of Air Force One” when “high officials” of a host country did not appear to greet the president.\\n\\nThat’s not true. Other presidents have encountered similar low-key greetings on foreign trips aboard the presidential aircraft.\\n\\nTrump referred to the fact that Cuba’s president, Raul Castro, did not greet Obama at the airport on his historic visit to Cuba in March, that Saudi Arabia’s King Salman did not meet Air Force One at the start of Obama’s trip to Riyadh in April, and he referred to China’s handling of the president’s arrival in Hangzhou last Saturday for a Group of 20 meeting.\\n\\nWhether or not those arrivals constituted snubs of a U.S. president as Trump claims is a matter of debate. But Trump is wrong on the facts when he claims it has not happened before. It has.\\n\\nIn 1984, for example, Ronald Reagan landed in Beijing and was received by China’s foreign minister rather than the president, whom he met only later. Similarly, on a 1985 trip to West Germany, Reagan was met by the foreign minister and not Chancellor Helmut Kohl.\\n\\nThese and other examples were dug up by our friend Glenn Kessler, the Washington Post‘s “Fact Checker,” who researched a Trump claim in April that Cuba’s and Saudi Arabia’s handling of Obama’s visits were “without precedent.” Kessler said of Trump, “once again he’s wrong, wrong, wrong.”\\n\\nKessler also noted that during Richard Nixon’s historic 1972 visit to China he was greeted at the airport by the country’s number two man, Premier Zhou Enlai. His boss, Chairman Mao, didn’t even agree to meet with Nixon until after he had arrived at a guest house.\\n\\nClinton said that her plan to overhaul the Veterans Health Administration would not include privatization, which she said Trump supports.\\n\\nBut Trump refuted that statement when it was his turn to discuss his plan to help veterans. “I would not do that,” Trump said, referring to Clinton’s claim that he supports privatization.\\n\\nTrump’s campaign published “The Goals Of Donald J. Trump’s Veterans Plan” on its website last October. It doesn’t call for the VA to be completely privatized.\\n\\nOne of the biggest changes that plan would make to the current VA health care system is allowing veterans to get care at any non-VA medical center that accepts Medicare.\\n\\n“Under a Trump Administration, all veterans eligible for VA health care can bring their veteran’s ID card to any doctor or care facility that accepts Medicare to get the care they need immediately,” the plan states.\\n\\n“The power to choose will stop the wait time backlogs and force the VA to improve and compete if the department wants to keep receiving veterans’ healthcare dollars,” the plan says.\\n\\nTrump’s proposal would seemingly go further than the Non-VA Medical Care Program, which allows eligible veterans to access care outside of the VA under certain circumstances, such as when VA medical centers cannot provide services. The program requires pre-approval for veterans to receive care at a non-VA facility in non-emergency situations.\\n\\nTrump’s proposal would also go further than the bipartisan Veterans Choice Act of 2014 that President Obama signed into law, creating a temporary program, separate from the Non-VA Medical Care Program, that allows eligible veterans to receive health care at a non-VA facility if they would have to wait more than 30 days for an appointment at a VA medical center, or if they live more than 40 miles from the nearest VA hospital.\\n\\nTrump stuck to the idea of allowing veterans to choose between public and private hospitals when he released his most recent “Ten Point Plan To Reform The VA” in July.\\n\\nPoint 10 of the plan says: “Mr. Trump will ensure every veteran has the choice to seek care at the VA or at a private service provider of their own choice. Under a Trump Administration, no veteran will die waiting for service.”\\n\\nTrump reinforced that part of his plan during the NBC News forum as well.\\n\\nTo be clear, Trump supports giving veterans a choice between VA hospitals and private ones. That’s not the same thing as supporting the complete privatization of the system that provides care to veterans.\\n\\nTrump criticized Clinton for making “a terrible mistake on Libya” when she was secretary of State. But, at the time, Trump also supported U.S. action that led to the removal of Moammar Gadhafi from power.\\n\\nTrump made his claim in response to a question posed by Lauer on whether Trump will be “prepared on Day One,” if elected president, to tackle “complex national security issues.”\\n\\nThis isn’t the first time Trump has ignored his past support for the U.S. intervention in Libya.\\n\\nDuring the 10th GOP debate, Trump said he had “never discussed that subject” when Sen. Ted Cruz called him out on supporting U.S. action in the country. But, as we wrote, Trump said in 2011 that the U.S. should go into Libya “on a humanitarian basis” and “knock [Gadhafi] out very quickly, very surgically, very effectively and save the lives.”\\n\\nTrump made that comment in a video posted to his YouTube channel in February 2011:\\n\\nEven though Trump now says Clinton’s support for intervention in Libya was a “terrible mistake,” it doesn’t change the fact that five years ago he supported Gadhafi’s removal.\\n\\nTrump twisted Clinton’s words when he claimed Clinton said “vets are being treated, essentially, just fine.” Clinton said the problems in the Department of Veterans Affairs were not as “widespread” as some Republican supporters of privatization of the VA claim, but she went on to acknowledge problems in the VA system — including the issue of wait times for doctors — and what she would do to address them.\\n\\nTrump highlighted the issue of wait times to see a doctor as “one of the big problems” in the VA, and then suggested Clinton doesn’t think the VA has problems.\\n\\nLauer interrupted, noting that Clinton “went on after that and laid out a litany of problems within the VA.”\\n\\nTrump insisted his version was accurate, adding, “I’m telling you … she said she was satisfied with what was going on in the Veterans Administration.”\\n\\nThat’s not accurate. The comments in question from Clinton came during an interview with MSNBC’s Rachel Maddow on Oct. 23, 2015. Maddow asked about talk among some Republicans of abolishing the VA and privatizing it. “The reason they are able to propose something that radical is because the problems at the VA seem so intractable,” Maddow said.\\n\\nMaddow asked if Clinton had any “new ideas for trying to fix” the VA. Here was Clinton’s response, with the part Trump is referring to in bold.\\n\\nClinton accused Republicans of underfunding the VA because they “want it to fail” so they can privatize it.\\n\\nClinton added, “But we have to be more creative about trying to fix the problems that are the legitimate concern, so that we can try to stymie the Republican assault.”\\n\\nIndeed, the Clinton campaign website states that Clinton wants to “fundamentally reform veterans’ health care to ensure access to timely and high quality care.” The campaign says Clinton “was outraged by the recent scandals at the VA, and as president, she will demand accountability and performance from VA leadership.” The site specifically mentions Clinton’s dissatisfaction that “[m]any veterans have to wait an unacceptably long time to see a doctor or to process disability claims and appeals” and promises she will “[b]uild a 21st-century Department of Veterans Affairs to deliver world-class care.”\\n\\nTrump cherry-picked the part of Clinton’s response that said problems in the VA have “not been as widespread as it has been made out to be,” to make the blanket claim that Clinton is “satisfied with what was going on in the Veterans Administration” and that “vets are being treated, essentially, just fine.” But Trump is leaving out the parts of Clinton’s answer that acknowledged problems in the VA — including the wait time issue Trump highlighted as one of his biggest concerns.']"
   ]
  },
  {
   "cell_type": "code",
   "execution_count": 101,
   "metadata": {},
   "outputs": [],
   "source": [
    "cleaned_text_list = []\n",
    "\n",
    "for i in range(0,len(test_list)):\n",
    "    text = contractions.fix(test_list[i])\n",
    "    text = text.lower()\n",
    "    text = re.sub('[^a-zA-z0-9\\s]', '' , text)\n",
    "    text = text.translate(str.maketrans('','',string.punctuation))\n",
    "    filtered = remove_stopwords(text)\n",
    "    cleaned_text_list.append(filtered)"
   ]
  },
  {
   "cell_type": "code",
   "execution_count": 102,
   "metadata": {},
   "outputs": [
    {
     "data": {
      "text/plain": [
       "4"
      ]
     },
     "execution_count": 102,
     "metadata": {},
     "output_type": "execute_result"
    }
   ],
   "source": [
    "len(cleaned_text_list)"
   ]
  },
  {
   "cell_type": "code",
   "execution_count": 103,
   "metadata": {},
   "outputs": [],
   "source": [
    "test2 = np.asarray(cleaned_text_list)\n",
    "test2_vectorized = vectorizer.transform(test2)"
   ]
  },
  {
   "cell_type": "code",
   "execution_count": 104,
   "metadata": {},
   "outputs": [
    {
     "data": {
      "text/plain": [
       "array([0, 0, 0, 0], dtype=int64)"
      ]
     },
     "execution_count": 104,
     "metadata": {},
     "output_type": "execute_result"
    }
   ],
   "source": [
    "clf.predict(test2_vectorized)"
   ]
  }
 ],
 "metadata": {
  "kernelspec": {
   "display_name": "Python 3.9.13 ('base')",
   "language": "python",
   "name": "python3"
  },
  "language_info": {
   "codemirror_mode": {
    "name": "ipython",
    "version": 3
   },
   "file_extension": ".py",
   "mimetype": "text/x-python",
   "name": "python",
   "nbconvert_exporter": "python",
   "pygments_lexer": "ipython3",
   "version": "3.9.12"
  },
  "orig_nbformat": 4,
  "vscode": {
   "interpreter": {
    "hash": "082ba676d51d61cc1b357a0f3cef9ec491fee30f37a4feb5ed0034920907a27a"
   }
  }
 },
 "nbformat": 4,
 "nbformat_minor": 2
}
