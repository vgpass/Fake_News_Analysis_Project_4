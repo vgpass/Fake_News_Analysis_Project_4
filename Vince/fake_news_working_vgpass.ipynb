{
 "cells": [
  {
   "attachments": {},
   "cell_type": "markdown",
   "metadata": {},
   "source": [
    "# Project 4 Working Notebook\n",
    "# Fake News Machine Learning"
   ]
  },
  {
   "cell_type": "code",
<<<<<<< HEAD
   "execution_count": 4,
=======
   "execution_count": 11,
>>>>>>> 2125737eb965d00654726c6d4d23b048f8e41dd2
   "metadata": {},
   "outputs": [],
   "source": [
    "# Project 4 Working Notebook\n",
    "# Fake News Machine Learning\n",
    "\n",
    " # Import our dependencies\n",
    "%matplotlib inline\n",
    "\n",
    "from sklearn.model_selection import train_test_split\n",
    "from sklearn.preprocessing import StandardScaler\n",
    "from sklearn.metrics import accuracy_score\n",
    "import pandas as pd\n",
    "import matplotlib.pyplot as plt\n",
    "from pathlib import Path \n",
    "import tensorflow as tf\n",
    "\n"
   ]
  },
  {
   "cell_type": "code",
<<<<<<< HEAD
   "execution_count": 5,
=======
   "execution_count": 12,
>>>>>>> 2125737eb965d00654726c6d4d23b048f8e41dd2
   "metadata": {},
   "outputs": [
    {
     "data": {
      "text/html": [
       "<div>\n",
       "<style scoped>\n",
       "    .dataframe tbody tr th:only-of-type {\n",
       "        vertical-align: middle;\n",
       "    }\n",
       "\n",
       "    .dataframe tbody tr th {\n",
       "        vertical-align: top;\n",
       "    }\n",
       "\n",
       "    .dataframe thead th {\n",
       "        text-align: right;\n",
       "    }\n",
       "</style>\n",
       "<table border=\"1\" class=\"dataframe\">\n",
       "  <thead>\n",
       "    <tr style=\"text-align: right;\">\n",
       "      <th></th>\n",
       "      <th>Unnamed: 0</th>\n",
       "      <th>title</th>\n",
       "      <th>text</th>\n",
       "      <th>label</th>\n",
       "    </tr>\n",
       "  </thead>\n",
       "  <tbody>\n",
       "    <tr>\n",
       "      <th>0</th>\n",
       "      <td>8476</td>\n",
       "      <td>You Can Smell Hillary’s Fear</td>\n",
       "      <td>Daniel Greenfield, a Shillman Journalism Fello...</td>\n",
       "      <td>FAKE</td>\n",
       "    </tr>\n",
       "    <tr>\n",
       "      <th>1</th>\n",
       "      <td>10294</td>\n",
       "      <td>Watch The Exact Moment Paul Ryan Committed Pol...</td>\n",
       "      <td>Google Pinterest Digg Linkedin Reddit Stumbleu...</td>\n",
       "      <td>FAKE</td>\n",
       "    </tr>\n",
       "    <tr>\n",
       "      <th>2</th>\n",
       "      <td>3608</td>\n",
       "      <td>Kerry to go to Paris in gesture of sympathy</td>\n",
       "      <td>U.S. Secretary of State John F. Kerry said Mon...</td>\n",
       "      <td>REAL</td>\n",
       "    </tr>\n",
       "    <tr>\n",
       "      <th>3</th>\n",
       "      <td>10142</td>\n",
       "      <td>Bernie supporters on Twitter erupt in anger ag...</td>\n",
       "      <td>— Kaydee King (@KaydeeKing) November 9, 2016 T...</td>\n",
       "      <td>FAKE</td>\n",
       "    </tr>\n",
       "    <tr>\n",
       "      <th>4</th>\n",
       "      <td>875</td>\n",
       "      <td>The Battle of New York: Why This Primary Matters</td>\n",
       "      <td>It's primary day in New York and front-runners...</td>\n",
       "      <td>REAL</td>\n",
       "    </tr>\n",
       "  </tbody>\n",
       "</table>\n",
       "</div>"
      ],
      "text/plain": [
       "   Unnamed: 0                                              title  \\\n",
       "0        8476                       You Can Smell Hillary’s Fear   \n",
       "1       10294  Watch The Exact Moment Paul Ryan Committed Pol...   \n",
       "2        3608        Kerry to go to Paris in gesture of sympathy   \n",
       "3       10142  Bernie supporters on Twitter erupt in anger ag...   \n",
       "4         875   The Battle of New York: Why This Primary Matters   \n",
       "\n",
       "                                                text label  \n",
       "0  Daniel Greenfield, a Shillman Journalism Fello...  FAKE  \n",
       "1  Google Pinterest Digg Linkedin Reddit Stumbleu...  FAKE  \n",
       "2  U.S. Secretary of State John F. Kerry said Mon...  REAL  \n",
       "3  — Kaydee King (@KaydeeKing) November 9, 2016 T...  FAKE  \n",
       "4  It's primary day in New York and front-runners...  REAL  "
      ]
     },
<<<<<<< HEAD
     "execution_count": 5,
=======
     "execution_count": 12,
>>>>>>> 2125737eb965d00654726c6d4d23b048f8e41dd2
     "metadata": {},
     "output_type": "execute_result"
    }
   ],
   "source": [
    "# Read the CSV file into a Pandas DataFrame\n",
    "# Set the index using the Ticker column\n",
    "\n",
    "df_news = pd.read_csv(\n",
<<<<<<< HEAD
    "    Path(\"../Resources/news.csv\")\n",
=======
    "    Path(\"Resources/news.csv\")\n",
>>>>>>> 2125737eb965d00654726c6d4d23b048f8e41dd2
    ")\n",
    "\n",
    "# Review the DataFrame\n",
    "df_news.head()"
   ]
  },
  {
   "cell_type": "code",
<<<<<<< HEAD
   "execution_count": 6,
=======
   "execution_count": 13,
>>>>>>> 2125737eb965d00654726c6d4d23b048f8e41dd2
   "metadata": {},
   "outputs": [
    {
     "name": "stdout",
     "output_type": "stream",
     "text": [
      "<class 'pandas.core.frame.DataFrame'>\n",
      "RangeIndex: 6335 entries, 0 to 6334\n",
      "Data columns (total 4 columns):\n",
      " #   Column      Non-Null Count  Dtype \n",
      "---  ------      --------------  ----- \n",
      " 0   Unnamed: 0  6335 non-null   int64 \n",
      " 1   title       6335 non-null   object\n",
      " 2   text        6335 non-null   object\n",
      " 3   label       6335 non-null   object\n",
      "dtypes: int64(1), object(3)\n",
      "memory usage: 198.1+ KB\n"
     ]
    }
   ],
   "source": [
    "# Get infor on dataframe\n",
    "df_news.info()"
   ]
  },
  {
   "cell_type": "code",
<<<<<<< HEAD
   "execution_count": 7,
=======
   "execution_count": 14,
>>>>>>> 2125737eb965d00654726c6d4d23b048f8e41dd2
   "metadata": {},
   "outputs": [
    {
     "data": {
      "text/html": [
       "<div>\n",
       "<style scoped>\n",
       "    .dataframe tbody tr th:only-of-type {\n",
       "        vertical-align: middle;\n",
       "    }\n",
       "\n",
       "    .dataframe tbody tr th {\n",
       "        vertical-align: top;\n",
       "    }\n",
       "\n",
       "    .dataframe thead th {\n",
       "        text-align: right;\n",
       "    }\n",
       "</style>\n",
       "<table border=\"1\" class=\"dataframe\">\n",
       "  <thead>\n",
       "    <tr style=\"text-align: right;\">\n",
       "      <th></th>\n",
       "      <th>Unnamed: 0</th>\n",
       "    </tr>\n",
       "  </thead>\n",
       "  <tbody>\n",
       "    <tr>\n",
       "      <th>count</th>\n",
       "      <td>6335.000000</td>\n",
       "    </tr>\n",
       "    <tr>\n",
       "      <th>mean</th>\n",
       "      <td>5280.415627</td>\n",
       "    </tr>\n",
       "    <tr>\n",
       "      <th>std</th>\n",
       "      <td>3038.503953</td>\n",
       "    </tr>\n",
       "    <tr>\n",
       "      <th>min</th>\n",
       "      <td>2.000000</td>\n",
       "    </tr>\n",
       "    <tr>\n",
       "      <th>25%</th>\n",
       "      <td>2674.500000</td>\n",
       "    </tr>\n",
       "    <tr>\n",
       "      <th>50%</th>\n",
       "      <td>5271.000000</td>\n",
       "    </tr>\n",
       "    <tr>\n",
       "      <th>75%</th>\n",
       "      <td>7901.000000</td>\n",
       "    </tr>\n",
       "    <tr>\n",
       "      <th>max</th>\n",
       "      <td>10557.000000</td>\n",
       "    </tr>\n",
       "  </tbody>\n",
       "</table>\n",
       "</div>"
      ],
      "text/plain": [
       "         Unnamed: 0\n",
       "count   6335.000000\n",
       "mean    5280.415627\n",
       "std     3038.503953\n",
       "min        2.000000\n",
       "25%     2674.500000\n",
       "50%     5271.000000\n",
       "75%     7901.000000\n",
       "max    10557.000000"
      ]
     },
<<<<<<< HEAD
     "execution_count": 7,
=======
     "execution_count": 14,
>>>>>>> 2125737eb965d00654726c6d4d23b048f8e41dd2
     "metadata": {},
     "output_type": "execute_result"
    }
   ],
   "source": [
    "# Available stats on dataframe\n",
    "df_news.describe()"
   ]
  },
  {
   "cell_type": "code",
<<<<<<< HEAD
   "execution_count": 8,
=======
   "execution_count": 15,
>>>>>>> 2125737eb965d00654726c6d4d23b048f8e41dd2
   "metadata": {},
   "outputs": [
    {
     "data": {
      "text/plain": [
       "6335"
      ]
     },
<<<<<<< HEAD
     "execution_count": 8,
=======
     "execution_count": 15,
>>>>>>> 2125737eb965d00654726c6d4d23b048f8e41dd2
     "metadata": {},
     "output_type": "execute_result"
    }
   ],
   "source": [
    "# Calculate how many unique values in first column\n",
    "df_news['Unnamed: 0'].nunique()"
   ]
  },
  {
   "cell_type": "code",
<<<<<<< HEAD
   "execution_count": 20,
=======
   "execution_count": 16,
>>>>>>> 2125737eb965d00654726c6d4d23b048f8e41dd2
   "metadata": {},
   "outputs": [
    {
     "data": {
      "text/html": [
       "<div>\n",
       "<style scoped>\n",
       "    .dataframe tbody tr th:only-of-type {\n",
       "        vertical-align: middle;\n",
       "    }\n",
       "\n",
       "    .dataframe tbody tr th {\n",
       "        vertical-align: top;\n",
       "    }\n",
       "\n",
       "    .dataframe thead th {\n",
       "        text-align: right;\n",
       "    }\n",
       "</style>\n",
       "<table border=\"1\" class=\"dataframe\">\n",
       "  <thead>\n",
       "    <tr style=\"text-align: right;\">\n",
       "      <th></th>\n",
       "      <th>label</th>\n",
       "    </tr>\n",
       "  </thead>\n",
       "  <tbody>\n",
       "    <tr>\n",
       "      <th>REAL</th>\n",
       "      <td>3171</td>\n",
       "    </tr>\n",
       "    <tr>\n",
       "      <th>FAKE</th>\n",
       "      <td>3164</td>\n",
       "    </tr>\n",
       "  </tbody>\n",
       "</table>\n",
       "</div>"
      ],
      "text/plain": [
       "      label\n",
       "REAL   3171\n",
       "FAKE   3164"
      ]
     },
<<<<<<< HEAD
     "execution_count": 20,
=======
     "execution_count": 16,
>>>>>>> 2125737eb965d00654726c6d4d23b048f8e41dd2
     "metadata": {},
     "output_type": "execute_result"
    }
   ],
   "source": [
    "# Count number of fake and real news articles\n",
    "fake_count = pd.DataFrame(df_news['label'].value_counts())\n",
    "fake_count"
   ]
  },
  {
   "cell_type": "code",
<<<<<<< HEAD
   "execution_count": 21,
=======
   "execution_count": 17,
>>>>>>> 2125737eb965d00654726c6d4d23b048f8e41dd2
   "metadata": {},
   "outputs": [
    {
     "data": {
      "text/html": [
       "<div>\n",
       "<style scoped>\n",
       "    .dataframe tbody tr th:only-of-type {\n",
       "        vertical-align: middle;\n",
       "    }\n",
       "\n",
       "    .dataframe tbody tr th {\n",
       "        vertical-align: top;\n",
       "    }\n",
       "\n",
       "    .dataframe thead th {\n",
       "        text-align: right;\n",
       "    }\n",
       "</style>\n",
       "<table border=\"1\" class=\"dataframe\">\n",
       "  <thead>\n",
       "    <tr style=\"text-align: right;\">\n",
       "      <th></th>\n",
       "      <th>id</th>\n",
       "      <th>title</th>\n",
       "      <th>text</th>\n",
       "      <th>label</th>\n",
       "    </tr>\n",
       "  </thead>\n",
       "  <tbody>\n",
       "    <tr>\n",
       "      <th>0</th>\n",
       "      <td>8476</td>\n",
       "      <td>You Can Smell Hillary’s Fear</td>\n",
       "      <td>Daniel Greenfield, a Shillman Journalism Fello...</td>\n",
       "      <td>FAKE</td>\n",
       "    </tr>\n",
       "    <tr>\n",
       "      <th>1</th>\n",
       "      <td>10294</td>\n",
       "      <td>Watch The Exact Moment Paul Ryan Committed Pol...</td>\n",
       "      <td>Google Pinterest Digg Linkedin Reddit Stumbleu...</td>\n",
       "      <td>FAKE</td>\n",
       "    </tr>\n",
       "    <tr>\n",
       "      <th>2</th>\n",
       "      <td>3608</td>\n",
       "      <td>Kerry to go to Paris in gesture of sympathy</td>\n",
       "      <td>U.S. Secretary of State John F. Kerry said Mon...</td>\n",
       "      <td>REAL</td>\n",
       "    </tr>\n",
       "    <tr>\n",
       "      <th>3</th>\n",
       "      <td>10142</td>\n",
       "      <td>Bernie supporters on Twitter erupt in anger ag...</td>\n",
       "      <td>— Kaydee King (@KaydeeKing) November 9, 2016 T...</td>\n",
       "      <td>FAKE</td>\n",
       "    </tr>\n",
       "    <tr>\n",
       "      <th>4</th>\n",
       "      <td>875</td>\n",
       "      <td>The Battle of New York: Why This Primary Matters</td>\n",
       "      <td>It's primary day in New York and front-runners...</td>\n",
       "      <td>REAL</td>\n",
       "    </tr>\n",
       "    <tr>\n",
       "      <th>...</th>\n",
       "      <td>...</td>\n",
       "      <td>...</td>\n",
       "      <td>...</td>\n",
       "      <td>...</td>\n",
       "    </tr>\n",
       "    <tr>\n",
       "      <th>6330</th>\n",
       "      <td>4490</td>\n",
       "      <td>State Department says it can't find emails fro...</td>\n",
       "      <td>The State Department told the Republican Natio...</td>\n",
       "      <td>REAL</td>\n",
       "    </tr>\n",
       "    <tr>\n",
       "      <th>6331</th>\n",
       "      <td>8062</td>\n",
       "      <td>The ‘P’ in PBS Should Stand for ‘Plutocratic’ ...</td>\n",
       "      <td>The ‘P’ in PBS Should Stand for ‘Plutocratic’ ...</td>\n",
       "      <td>FAKE</td>\n",
       "    </tr>\n",
       "    <tr>\n",
       "      <th>6332</th>\n",
       "      <td>8622</td>\n",
       "      <td>Anti-Trump Protesters Are Tools of the Oligarc...</td>\n",
       "      <td>Anti-Trump Protesters Are Tools of the Oligar...</td>\n",
       "      <td>FAKE</td>\n",
       "    </tr>\n",
       "    <tr>\n",
       "      <th>6333</th>\n",
       "      <td>4021</td>\n",
       "      <td>In Ethiopia, Obama seeks progress on peace, se...</td>\n",
       "      <td>ADDIS ABABA, Ethiopia —President Obama convene...</td>\n",
       "      <td>REAL</td>\n",
       "    </tr>\n",
       "    <tr>\n",
       "      <th>6334</th>\n",
       "      <td>4330</td>\n",
       "      <td>Jeb Bush Is Suddenly Attacking Trump. Here's W...</td>\n",
       "      <td>Jeb Bush Is Suddenly Attacking Trump. Here's W...</td>\n",
       "      <td>REAL</td>\n",
       "    </tr>\n",
       "  </tbody>\n",
       "</table>\n",
       "<p>6335 rows × 4 columns</p>\n",
       "</div>"
      ],
      "text/plain": [
       "         id                                              title  \\\n",
       "0      8476                       You Can Smell Hillary’s Fear   \n",
       "1     10294  Watch The Exact Moment Paul Ryan Committed Pol...   \n",
       "2      3608        Kerry to go to Paris in gesture of sympathy   \n",
       "3     10142  Bernie supporters on Twitter erupt in anger ag...   \n",
       "4       875   The Battle of New York: Why This Primary Matters   \n",
       "...     ...                                                ...   \n",
       "6330   4490  State Department says it can't find emails fro...   \n",
       "6331   8062  The ‘P’ in PBS Should Stand for ‘Plutocratic’ ...   \n",
       "6332   8622  Anti-Trump Protesters Are Tools of the Oligarc...   \n",
       "6333   4021  In Ethiopia, Obama seeks progress on peace, se...   \n",
       "6334   4330  Jeb Bush Is Suddenly Attacking Trump. Here's W...   \n",
       "\n",
       "                                                   text label  \n",
       "0     Daniel Greenfield, a Shillman Journalism Fello...  FAKE  \n",
       "1     Google Pinterest Digg Linkedin Reddit Stumbleu...  FAKE  \n",
       "2     U.S. Secretary of State John F. Kerry said Mon...  REAL  \n",
       "3     — Kaydee King (@KaydeeKing) November 9, 2016 T...  FAKE  \n",
       "4     It's primary day in New York and front-runners...  REAL  \n",
       "...                                                 ...   ...  \n",
       "6330  The State Department told the Republican Natio...  REAL  \n",
       "6331  The ‘P’ in PBS Should Stand for ‘Plutocratic’ ...  FAKE  \n",
       "6332   Anti-Trump Protesters Are Tools of the Oligar...  FAKE  \n",
       "6333  ADDIS ABABA, Ethiopia —President Obama convene...  REAL  \n",
       "6334  Jeb Bush Is Suddenly Attacking Trump. Here's W...  REAL  \n",
       "\n",
       "[6335 rows x 4 columns]"
      ]
     },
<<<<<<< HEAD
     "execution_count": 21,
=======
     "execution_count": 17,
>>>>>>> 2125737eb965d00654726c6d4d23b048f8e41dd2
     "metadata": {},
     "output_type": "execute_result"
    }
   ],
   "source": [
    "# Rename the first column to id\n",
    "df_news.rename(columns={'Unnamed: 0': 'id'})"
   ]
  },
  {
   "cell_type": "code",
<<<<<<< HEAD
   "execution_count": 27,
=======
   "execution_count": 21,
>>>>>>> 2125737eb965d00654726c6d4d23b048f8e41dd2
   "metadata": {},
   "outputs": [
    {
     "data": {
<<<<<<< HEAD
      "image/png": "iVBORw0KGgoAAAANSUhEUgAAAkQAAAGxCAYAAACDV6ltAAAAOXRFWHRTb2Z0d2FyZQBNYXRwbG90bGliIHZlcnNpb24zLjUuMiwgaHR0cHM6Ly9tYXRwbG90bGliLm9yZy8qNh9FAAAACXBIWXMAAA9hAAAPYQGoP6dpAAA6zklEQVR4nO3de1RVdf7/8deJy1EJToJyU0TMS5hmpqU4mfcLSWQ6afKV0TQzr2NqXnJm1Gq07JvaZFljJuMtm5m0LJW8pdVP8VZYKjo1SWmCmOEBC0Fx//5osb8dAeMYcJD9fKy11+p89vt89nsfRF/t27EZhmEIAADAwm7wdAMAAACeRiACAACWRyACAACWRyACAACWRyACAACWRyACAACWRyACAACWRyACAACWRyACAACWRyACylFSUpJsNptq1Kihb775ptj6zp07q0WLFh7oTNqxY4dsNpv+/e9/e2T77kpPT1efPn0UGBgom82mCRMmVOj2XnnlFSUlJZXYh81mK3Hd1RR93jt27CiX/sqi6M/f/v37K3Q7Gzdu1KxZsyp0G0BlIxABFSA/P19/+tOfPN3Gde3xxx/Xnj179MYbb2j37t16/PHHK3R7pQWisLAw7d69W3369KnQ7V9PNm7cqNmzZ3u6DaBcEYiACtC7d2+tXr1aBw8e9HQrlS4vL0/l8RWJhw4d0l133aW+ffuqffv2ioyMLIfuivvpp5+uut5ut6t9+/aqW7duhWwfQNVAIAIqwJQpUxQUFKSpU6dete5qp2NsNpvLaYlZs2bJZrPp888/14MPPiiHw6HAwEBNnDhRly5d0rFjx9S7d2/5+/urYcOGmjdvXonbvHDhgiZOnKjQ0FDVrFlTnTp10meffVasbv/+/YqPj1dgYKBq1Kih1q1b65///KdLTdEpms2bN2vYsGGqW7euatWqpfz8/FL3+dtvv9XgwYMVHBwsu92u6OhovfDCC7p8+bKk/zvV9NVXX2nTpk2y2Wyy2WxKT08vdc6XX35Z99xzj4KDg+Xn56eWLVtq3rx5unjxoktd0SnLjz76SB06dFCtWrU0bNgwNWzYUIcPH9bOnTvN7TVs2FBS6T+jo0ePatCgQQoJCZHdbleDBg30hz/84ar7XtbP9aefftLkyZMVFRWlGjVqKDAwUG3bttWbb7551bmLZGdn6+GHH1ZgYKD8/Px033336euvvzbXP/300/L29taJEyeKvXfYsGEKCgrShQsXSpx76NChevnllyXJ/KyKfj7dunXTLbfcUiwQG4ahxo0bm0fZij7TefPm6a9//asaNGigGjVqqG3bttq2bVuxbX755ZdKSEhw+TNT1ANQXghEQAXw9/fXn/70J33wwQfavn17uc49YMAAtWrVSm+//bZGjBihBQsW6PHHH1ffvn3Vp08frVu3Tl27dtXUqVO1du3aYu9/8skn9fXXX+v111/X66+/rlOnTqlz584u/2B++OGH+t3vfqdz587p1Vdf1bvvvqvbb79dAwcOLDG8DRs2TD4+PlqxYoX+/e9/y8fHp8Tez5w5ow4dOmjz5s16+umntX79enXv3l2TJ0/W2LFjJUl33HGHdu/erdDQUP3ud7/T7t27tXv3boWFhZX6mfz3v/9VQkKCVqxYoffff1/Dhw/X888/r5EjRxarzcjI0ODBg5WQkKCNGzdq9OjRWrdunRo1aqTWrVub21u3bl2p2zt48KDuvPNOpaSk6KmnntKmTZs0d+5c5efnq6CgoNT3lfVznThxohYvXqzx48crOTlZK1as0IMPPqizZ8+WOvcvDR8+XDfccINWr16thQsXau/evercubPOnTsnSRo5cqS8vb312muvubzvhx9+0Jo1azR8+HDVqFGjxLn//Oc/6/e//70kmZ9V0c/nj3/8o44dO1Ys1GzatEn//e9/NWbMGJfxRYsWKTk5WQsXLtTKlSt1ww03KDY2Vrt37zZrjhw5ojvvvFOHDh3SCy+8oPfff199+vTR+PHjOW2H8mUAKDfLli0zJBn79u0z8vPzjUaNGhlt27Y1Ll++bBiGYXTq1Mm49dZbzfrjx48bkoxly5YVm0uSMXPmTPP1zJkzDUnGCy+84FJ3++23G5KMtWvXmmMXL1406tata/Tr188c+/DDDw1Jxh133GH2YxiGkZ6ebvj4+BiPPPKIOXbLLbcYrVu3Ni5evOiyrbi4OCMsLMwoLCx02d8//OEPZfp8pk2bZkgy9uzZ4zI+atQow2azGceOHTPHIiMjjT59+pRp3l8qLCw0Ll68aCxfvtzw8vIyfvjhB3Ndp06dDEnGtm3bir3v1ltvNTp16lRsvKSfUdeuXY2bbrrJyMrKKrWPos/7ww8/NMfK+rm2aNHC6Nu3bxn3+P8U/TweeOABl/H/9//+nyHJeOaZZ8yxIUOGGMHBwUZ+fr459txzzxk33HCDcfz48atuZ8yYMUZJ/3wUFhYajRo1Mu6//36X8djYWOPmm282/9wVfabh4eFGXl6eWZeTk2MEBgYa3bt3N8d69epl1K9f33A6nS5zjh071qhRo4bLzxf4LThCBFQQX19fPfPMM9q/f3+xUyK/RVxcnMvr6Oho2Ww2xcbGmmPe3t5q3LhxiXe6JSQkyGazma8jIyPVoUMHffjhh5Kkr776SkePHtX//M//SJIuXbpkLvfee68yMjJ07Ngxlzn79+9fpt63b9+u5s2b66677nIZHzp0qAzDuOajaZ999pni4+MVFBQkLy8v+fj46A9/+IMKCwv1n//8x6W2du3a6tq16zVtR/r5dNbOnTs1YMAAt64rcudzveuuu7Rp0yZNmzZNO3bsUF5enls9Fm2jSIcOHRQZGWn+jCXpj3/8o7KysvSvf/1LknT58mUtXrxYffr0MU8XuuuGG27Q2LFj9f777+vbb7+V9PPRu+TkZI0ePdrlz50k9evXz+VIlL+/v+677z599NFHKiws1IULF7Rt2zY98MADqlWrVrHP7MKFC0pJSbmmXoErEYiACvTQQw/pjjvu0IwZM4pdz3KtAgMDXV77+vqqVq1axU5x+Pr6lngdSGhoaIljRadjTp8+LUmaPHmyfHx8XJbRo0dLkr7//nuX91/tdNYvnT17tsTa8PBwc727vv32W3Xs2FHfffedXnzxRX388cfat2+feY3JlWGirL2WJjs7W4WFhapfv75b73Pnc/3b3/6mqVOn6p133lGXLl0UGBiovn376ssvvyzTtn7tZyxJrVu3VseOHc3P6f3331d6erp56vJaDRs2TDVr1tSrr74q6efru2rWrKlhw4aVuc+CggKdP39eZ8+e1aVLl/TSSy8V+8zuvfdeScX/LALXytvTDQDVmc1m03PPPacePXro73//e7H1RSHmygtxryUYlFVmZmaJY0FBQZKkOnXqSJKmT5+ufv36lThHs2bNXF5f+X/+pQkKClJGRkax8VOnTrls2x3vvPOOfvzxR61du9blTrTU1NQS68vaa2kCAwPl5eWlkydPuvU+dz5XPz8/zZ49W7Nnz9bp06fNo0X33Xefjh49+qvbKu1n3LhxY5ex8ePH68EHH9Snn36qRYsWqWnTpurRo4db+3Ulh8OhIUOG6PXXX9fkyZO1bNkyJSQk6Kabbipzn76+vrrxxhvl4+MjLy8vJSYmFrv+qEhUVNRv6hcowhEioIJ1795dPXr00FNPPaXz58+7rAsJCVGNGjX0+eefu4y/++67FdbPm2++6XIX0DfffKNdu3apc+fOkn7+R7lJkyY6ePCg2rZtW+Li7+9/Tdvu1q2bjhw5ok8//dRlfPny5bLZbOrSpYvbcxYFHLvdbo4ZhqElS5a4NY/dbi/TqamiO/P+9a9/uXV04lo/15CQEA0dOlSDBg3SsWPHfvUxAZK0atUql9e7du3SN998Y/6MizzwwANq0KCBJk2apK1bt5Z4WqskRZ91aZ/X+PHj9f333+v3v/+9zp07V+pRp7Vr17ocxczNzdV7772njh07ysvLS7Vq1VKXLl302Wef6bbbbivxMysK8sBvxREioBI899xzatOmjbKysnTrrbea4zabTYMHD9Ybb7yhm2++Wa1atdLevXu1evXqCuslKytLDzzwgEaMGCGn06mZM2eqRo0amj59ulnz2muvKTY2Vr169dLQoUNVr149/fDDD0pLS9Onn35qXnfirscff1zLly9Xnz599NRTTykyMlIbNmzQK6+8olGjRqlp06Zuz9mjRw/5+vpq0KBBmjJlii5cuKDFixcrOzvbrXlatmypNWvW6K233lKjRo1Uo0YNtWzZssTa+fPn6+6771a7du00bdo0NW7cWKdPn9b69ev12muvlRoYy/q5tmvXTnFxcbrttttUu3ZtpaWlacWKFYqJiVGtWrV+dV/279+vRx55RA8++KBOnDihGTNmqF69euapuSJeXl4aM2aMpk6dKj8/Pw0dOrTMn5X085/r2NhYeXl56bbbbpOvr68kqWnTpurdu7c2bdqku+++W61atSpxHi8vL/Xo0UMTJ07U5cuX9dxzzyknJ8fl7rEXX3xRd999tzp27KhRo0apYcOGys3N1VdffaX33nuv3O/ihIV5+KJuoFr55V1mV0pISDAkudxlZhiG4XQ6jUceecQICQkx/Pz8jPvuu89IT08v9S6zM2fOuLx/yJAhhp+fX7HtXXlHW9FdTytWrDDGjx9v1K1b17Db7UbHjh2N/fv3F3v/wYMHjQEDBhjBwcGGj4+PERoaanTt2tV49dVXy7S/pfnmm2+MhIQEIygoyPDx8TGaNWtmPP/88+YdVkXcucvsvffeM1q1amXUqFHDqFevnvHEE08YmzZtKnaX15WfyS+lp6cbPXv2NPz9/Q1JRmRkpGEYpd8JeOTIEePBBx80goKCDF9fX6NBgwbG0KFDjQsXLhiGUfJdZoZRts912rRpRtu2bY3atWsbdrvdaNSokfH4448b33///VU/h6Kfx+bNm43ExETjpptuMmrWrGnce++9xpdfflnqfksyHnvssavO/Uv5+fnGI488YtStW9ew2WyGpGJ3piUlJRmSjDVr1hR7f9Fn+txzzxmzZ8826tevb/j6+hqtW7c2PvjggxLrhw0bZtSrV8/w8fEx6tata3To0MHlrjngt7IZRjk8UhYAcF166aWXNH78eB06dMjl6OVv1b9/f6WkpCg9Pb3Yc6nS09MVFRWl559/XpMnTy63bQK/BafMAMCCPvvsMx0/flxPPfWU7r///nIJQ/n5+fr000+1d+9erVu3TvPnzy/1IZ1AVUMgAgALeuCBB5SZmamOHTuat8j/VhkZGerQoYMCAgI0cuRIjRs3rlzmBSoDp8wAAIDlcds9AACwPAIRAACwPAIRAACwPC6qLqPLly/r1KlT8vf3/82P/gcAAJXDMAzl5uYqPDxcN9xQ+nEgAlEZnTp1ShEREZ5uAwAAXIMTJ05c9UuZCURlVPQo/hMnTiggIMDD3QAAgLLIyclRRETEr34HI4GojIpOkwUEBBCIAAC4zvza5S5cVA0AACyPQAQAACyPQAQAACyPQAQAACyPQAQAACyPQAQAACyPQAQAACyPQAQAACyPQAQAACyPQAQAACyPQAQAACyPQAQAACyPQAQAACyPQAQAACzP29MNQGo4bYOnWwCqtPRn+3i6BQDVHIEIACpJ2i3Rnm4BqLKij6Z5dPucMgMAAJZHIAIAAJZHIAIAAJZHIAIAAJZHIAIAAJZHIAIAAJZHIAIAAJZHIAIAAJZHIAIAAJZHIAIAAJZHIAIAAJZHIAIAAJZHIAIAAJbn0UC0ePFi3XbbbQoICFBAQIBiYmK0adMmc71hGJo1a5bCw8NVs2ZNde7cWYcPH3aZIz8/X+PGjVOdOnXk5+en+Ph4nTx50qUmOztbiYmJcjgccjgcSkxM1Llz5ypjFwEAwHXAo4Gofv36evbZZ7V//37t379fXbt21f3332+Gnnnz5mn+/PlatGiR9u3bp9DQUPXo0UO5ubnmHBMmTNC6deu0Zs0affLJJzp//rzi4uJUWFho1iQkJCg1NVXJyclKTk5WamqqEhMTK31/AQBA1WQzDMPwdBO/FBgYqOeff17Dhg1TeHi4JkyYoKlTp0r6+WhQSEiInnvuOY0cOVJOp1N169bVihUrNHDgQEnSqVOnFBERoY0bN6pXr15KS0tT8+bNlZKSonbt2kmSUlJSFBMTo6NHj6pZs2Zl6isnJ0cOh0NOp1MBAQHlus8Np20o1/mA6ib92T6ebqFcpN0S7ekWgCor+mhahcxb1n+/q8w1RIWFhVqzZo1+/PFHxcTE6Pjx48rMzFTPnj3NGrvdrk6dOmnXrl2SpAMHDujixYsuNeHh4WrRooVZs3v3bjkcDjMMSVL79u3lcDjMmpLk5+crJyfHZQEAANWTxwPRF198oRtvvFF2u12PPfaY1q1bp+bNmyszM1OSFBIS4lIfEhJirsvMzJSvr69q16591Zrg4OBi2w0ODjZrSjJ37lzzmiOHw6GIiIjftJ8AAKDq8nggatasmVJTU5WSkqJRo0ZpyJAhOnLkiLneZrO51BuGUWzsSlfWlFT/a/NMnz5dTqfTXE6cOFHWXQIAANcZjwciX19fNW7cWG3bttXcuXPVqlUrvfjiiwoNDZWkYkdxsrKyzKNGoaGhKigoUHZ29lVrTp8+XWy7Z86cKXb06Zfsdrt591vRAgAAqiePB6IrGYah/Px8RUVFKTQ0VFu2bDHXFRQUaOfOnerQoYMkqU2bNvLx8XGpycjI0KFDh8yamJgYOZ1O7d2716zZs2ePnE6nWQMAAKzN25Mbf/LJJxUbG6uIiAjl5uZqzZo12rFjh5KTk2Wz2TRhwgTNmTNHTZo0UZMmTTRnzhzVqlVLCQkJkiSHw6Hhw4dr0qRJCgoKUmBgoCZPnqyWLVuqe/fukqTo6Gj17t1bI0aM0GuvvSZJevTRRxUXF1fmO8wAAED15tFAdPr0aSUmJiojI0MOh0O33XabkpOT1aNHD0nSlClTlJeXp9GjRys7O1vt2rXT5s2b5e/vb86xYMECeXt7a8CAAcrLy1O3bt2UlJQkLy8vs2bVqlUaP368eTdafHy8Fi1aVLk7CwAAqqwq9xyiqornEAGew3OIgOqP5xABAAB4GIEIAABYHoEIAABYHoEIAABYHoEIAABYHoEIAABYHoEIAABYHoEIAABYHoEIAABYHoEIAABYHoEIAABYHoEIAABYHoEIAABYHoEIAABYHoEIAABYHoEIAABYHoEIAABYHoEIAABYHoEIAABYHoEIAABYHoEIAABYHoEIAABYHoEIAABYHoEIAABYHoEIAABYHoEIAABYHoEIAABYHoEIAABYHoEIAABYHoEIAABYHoEIAABYHoEIAABYHoEIAABYHoEIAABYHoEIAABYHoEIAABYHoEIAABYHoEIAABYHoEIAABYHoEIAABYHoEIAABYHoEIAABYHoEIAABYHoEIAABYHoEIAABYnkcD0dy5c3XnnXfK399fwcHB6tu3r44dO+ZSM3ToUNlsNpelffv2LjX5+fkaN26c6tSpIz8/P8XHx+vkyZMuNdnZ2UpMTJTD4ZDD4VBiYqLOnTtX0bsIAACuAx4NRDt37tSYMWOUkpKiLVu26NKlS+rZs6d+/PFHl7revXsrIyPDXDZu3OiyfsKECVq3bp3WrFmjTz75ROfPn1dcXJwKCwvNmoSEBKWmpio5OVnJyclKTU1VYmJipewnAACo2rw9ufHk5GSX18uWLVNwcLAOHDige+65xxy32+0KDQ0tcQ6n06mlS5dqxYoV6t69uyRp5cqVioiI0NatW9WrVy+lpaUpOTlZKSkpateunSRpyZIliomJ0bFjx9SsWbMK2kMAAHA9qFLXEDmdTklSYGCgy/iOHTsUHByspk2basSIEcrKyjLXHThwQBcvXlTPnj3NsfDwcLVo0UK7du2SJO3evVsOh8MMQ5LUvn17ORwOs+ZK+fn5ysnJcVkAAED1VGUCkWEYmjhxou6++261aNHCHI+NjdWqVau0fft2vfDCC9q3b5+6du2q/Px8SVJmZqZ8fX1Vu3Ztl/lCQkKUmZlp1gQHBxfbZnBwsFlzpblz55rXGzkcDkVERJTXrgIAgCrGo6fMfmns2LH6/PPP9cknn7iMDxw40PzvFi1aqG3btoqMjNSGDRvUr1+/UuczDEM2m818/cv/Lq3ml6ZPn66JEyear3NycghFAABUU1XiCNG4ceO0fv16ffjhh6pfv/5Va8PCwhQZGakvv/xSkhQaGqqCggJlZ2e71GVlZSkkJMSsOX36dLG5zpw5Y9ZcyW63KyAgwGUBAADVk0cDkWEYGjt2rNauXavt27crKirqV99z9uxZnThxQmFhYZKkNm3ayMfHR1u2bDFrMjIydOjQIXXo0EGSFBMTI6fTqb1795o1e/bskdPpNGsAAIB1efSU2ZgxY7R69Wq9++678vf3N6/ncTgcqlmzps6fP69Zs2apf//+CgsLU3p6up588knVqVNHDzzwgFk7fPhwTZo0SUFBQQoMDNTkyZPVsmVL866z6Oho9e7dWyNGjNBrr70mSXr00UcVFxfHHWYAAMCzgWjx4sWSpM6dO7uML1u2TEOHDpWXl5e++OILLV++XOfOnVNYWJi6dOmit956S/7+/mb9ggUL5O3trQEDBigvL0/dunVTUlKSvLy8zJpVq1Zp/Pjx5t1o8fHxWrRoUcXvJAAAqPJshmEYnm7iepCTkyOHwyGn01nu1xM1nLahXOcDqpv0Z/t4uoVykXZLtKdbAKqs6KNpFTJvWf/9rhIXVQMAAHgSgQgAAFgegQgAAFgegQgAAFgegQgAAFgegQgAAFgegQgAAFgegQgAAFgegQgAAFgegQgAAFgegQgAAFgegQgAAFgegQgAAFgegQgAAFgegQgAAFgegQgAAFgegQgAAFgegQgAAFgegQgAAFgegQgAAFgegQgAAFgegQgAAFgegQgAAFgegQgAAFgegQgAAFgegQgAAFgegQgAAFgegQgAAFgegQgAAFgegQgAAFgegQgAAFgegQgAAFgegQgAAFgegQgAAFgegQgAAFgegQgAAFgegQgAAFgegQgAAFgegQgAAFgegQgAAFgegQgAAFgegQgAAFie24GoUaNGOnv2bLHxc+fOqVGjRuXSFAAAQGVyOxClp6ersLCw2Hh+fr6+++67cmkKAACgMpU5EK1fv17r16+XJH3wwQfm6/Xr12vdunV6+umn1bBhQ7c2PnfuXN15553y9/dXcHCw+vbtq2PHjrnUGIahWbNmKTw8XDVr1lTnzp11+PBhl5r8/HyNGzdOderUkZ+fn+Lj43Xy5EmXmuzsbCUmJsrhcMjhcCgxMVHnzp1zq18AAFA9eZe1sG/fvpIkm82mIUOGuKzz8fFRw4YN9cILL7i18Z07d2rMmDG68847denSJc2YMUM9e/bUkSNH5OfnJ0maN2+e5s+fr6SkJDVt2lTPPPOMevTooWPHjsnf31+SNGHCBL333ntas2aNgoKCNGnSJMXFxenAgQPy8vKSJCUkJOjkyZNKTk6WJD366KNKTEzUe++951bPAACg+rEZhmG484aoqCjt27dPderUKfdmzpw5o+DgYO3cuVP33HOPDMNQeHi4JkyYoKlTp0r6+WhQSEiInnvuOY0cOVJOp1N169bVihUrNHDgQEnSqVOnFBERoY0bN6pXr15KS0tT8+bNlZKSonbt2kmSUlJSFBMTo6NHj6pZs2a/2ltOTo4cDoecTqcCAgLKdb8bTttQrvMB1U36s3083UK5SLsl2tMtAFVW9NG0Cpm3rP9+u30N0fHjxyskDEmS0+mUJAUGBprbyszMVM+ePc0au92uTp06adeuXZKkAwcO6OLFiy414eHhatGihVmze/duORwOMwxJUvv27eVwOMyaK+Xn5ysnJ8dlAQAA1VOZT5n90rZt27Rt2zZlZWXp8uXLLuveeOONa2rEMAxNnDhRd999t1q0aCFJyszMlCSFhIS41IaEhOibb74xa3x9fVW7du1iNUXvz8zMVHBwcLFtBgcHmzVXmjt3rmbPnn1N+wIAAK4vbh8hmj17tnr27Klt27bp+++/V3Z2tstyrcaOHavPP/9cb775ZrF1NpvN5bVhGMXGrnRlTUn1V5tn+vTpcjqd5nLixImy7AYAALgOuX2E6NVXX1VSUpISExPLrYlx48Zp/fr1+uijj1S/fn1zPDQ0VNLPR3jCwsLM8aysLPOoUWhoqAoKCpSdne1ylCgrK0sdOnQwa06fPl1su2fOnCl29KmI3W6X3W7/7TsHAACqPLePEBUUFJhB47cyDENjx47V2rVrtX37dkVFRbmsj4qKUmhoqLZs2eKy/Z07d5o9tGnTRj4+Pi41GRkZOnTokFkTExMjp9OpvXv3mjV79uyR0+kst30BAADXL7cD0SOPPKLVq1eXy8bHjBmjlStXavXq1fL391dmZqYyMzOVl5cn6efTXBMmTNCcOXO0bt06HTp0SEOHDlWtWrWUkJAgSXI4HBo+fLgmTZqkbdu26bPPPtPgwYPVsmVLde/eXZIUHR2t3r17a8SIEUpJSVFKSopGjBihuLi4Mt1hBgAAqje3T5lduHBBf//737V161bddttt8vHxcVk/f/78Ms+1ePFiSVLnzp1dxpctW6ahQ4dKkqZMmaK8vDyNHj1a2dnZateunTZv3mw+g0iSFixYIG9vbw0YMEB5eXnq1q2bkpKSzGcQSdKqVas0fvx48260+Ph4LVq0yJ1dBwAA1ZTbzyHq0qVL6ZPZbNq+fftvbqoq4jlEgOfwHCKg+vP0c4jcPkL04Ycf/qbGAAAAqhq3ryECAACobtw+QtSlS5erPgOoup4yAwAA1Zfbgej22293eX3x4kWlpqbq0KFDxb70FQAA4HrgdiBasGBBieOzZs3S+fPnf3NDAAAAla3criEaPHjwNX+PGQAAgCeVWyDavXu3atSoUV7TAQAAVBq3T5n169fP5bVhGMrIyND+/fv15z//udwaAwAAqCxuByKHw+Hy+oYbblCzZs301FNPmU+BBgAAuJ64HYiWLVtWEX0AAAB4jNuBqMiBAweUlpYmm82m5s2bq3Xr1uXZFwAAQKVxOxBlZWXpoYce0o4dO3TTTTfJMAw5nU516dJFa9asUd26dSuiTwAAgArj9l1m48aNU05Ojg4fPqwffvhB2dnZOnTokHJycjR+/PiK6BEAAKBCuX2EKDk5WVu3blV09P99a3Pz5s318ssvc1E1AAC4Lrl9hOjy5cvy8fEpNu7j46PLly+XS1MAAACVye1A1LVrV/3xj3/UqVOnzLHvvvtOjz/+uLp161auzQEAAFQGtwPRokWLlJubq4YNG+rmm29W48aNFRUVpdzcXL300ksV0SMAAECFcvsaooiICH366afasmWLjh49KsMw1Lx5c3Xv3r0i+gMAAKhw1/wcoh49eqhHjx7l2QsAAIBHlPmU2fbt29W8eXPl5OQUW+d0OnXrrbfq448/LtfmAAAAKkOZA9HChQs1YsQIBQQEFFvncDg0cuRIzZ8/v1ybAwAAqAxlDkQHDx5U7969S13fs2dPHThwoFyaAgAAqExlDkSnT58u8flDRby9vXXmzJlyaQoAAKAylTkQ1atXT1988UWp6z///HOFhYWVS1MAAACVqcyB6N5779Vf/vIXXbhwodi6vLw8zZw5U3FxceXaHAAAQGUo8233f/rTn7R27Vo1bdpUY8eOVbNmzWSz2ZSWlqaXX35ZhYWFmjFjRkX2CgAAUCHKHIhCQkK0a9cujRo1StOnT5dhGJIkm82mXr166ZVXXlFISEiFNQoAAFBR3HowY2RkpDZu3Kjs7Gx99dVXMgxDTZo0Ue3atSuqPwAAgAp3TU+qrl27tu68887y7gUAAMAj3P5yVwAAgOqGQAQAACyPQAQAACyPQAQAACzvmgLRihUr9Lvf/U7h4eH65ptvJP385a/vvvtuuTYHAABQGdwORIsXL9bEiRN177336ty5cyosLJQk3XTTTVq4cGF59wcAAFDh3A5EL730kpYsWaIZM2bIy8vLHG/btu1Vv+sMAACgqnI7EB0/flytW7cuNm632/Xjjz+WS1MAAACVye1AFBUVpdTU1GLjmzZtUvPmzcujJwAAgErl9pOqn3jiCY0ZM0YXLlyQYRjau3ev3nzzTc2dO1evv/56RfQIAABQodwORA8//LAuXbqkKVOm6KefflJCQoLq1aunF198UQ899FBF9AgAAFChrum7zEaMGKERI0bo+++/1+XLlxUcHFzefQEAAFSaawpERerUqVNefQAAAHhMmQJR69atZbPZyjThp59++psaAgAAqGxlCkR9+/at4DYAAAA8p0yBaObMmRXdBwAAgMe4/Ryiffv2ac+ePcXG9+zZo/3797s110cffaT77rtP4eHhstlseuedd1zWDx06VDabzWVp3769S01+fr7GjRunOnXqyM/PT/Hx8Tp58qRLTXZ2thITE+VwOORwOJSYmKhz58651SsAAKi+3A5EY8aM0YkTJ4qNf/fddxozZoxbc/34449q1aqVFi1aVGpN7969lZGRYS4bN250WT9hwgStW7dOa9as0SeffKLz588rLi7O/I41SUpISFBqaqqSk5OVnJys1NRUJSYmutUrAACovty+y+zIkSO64447io23bt1aR44ccWuu2NhYxcbGXrXGbrcrNDS0xHVOp1NLly7VihUr1L17d0nSypUrFRERoa1bt6pXr15KS0tTcnKyUlJS1K5dO0nSkiVLFBMTo2PHjqlZs2Zu9QwAAKoft48Q2e12nT59uth4RkaGvL1/0138JdqxY4eCg4PVtGlTjRgxQllZWea6AwcO6OLFi+rZs6c5Fh4erhYtWmjXrl2SpN27d8vhcJhhSJLat28vh8Nh1pQkPz9fOTk5LgsAAKie3A5EPXr00PTp0+V0Os2xc+fO6cknn1SPHj3KtbnY2FitWrVK27dv1wsvvKB9+/apa9euys/PlyRlZmbK19dXtWvXdnlfSEiIMjMzzZqSHhwZHBxs1pRk7ty55jVHDodDERER5bhnAACgKnH7kM4LL7yge+65R5GRkea33qempiokJEQrVqwo1+YGDhxo/neLFi3Utm1bRUZGasOGDerXr1+p7zMMw+W5SSU9Q+nKmitNnz5dEydONF/n5OQQigAAqKbcDkT16tXT559/rlWrVungwYOqWbOmHn74YQ0aNEg+Pj4V0aMpLCxMkZGR+vLLLyVJoaGhKigoUHZ2tstRoqysLHXo0MGsKekU35kzZxQSElLqtux2u+x2eznvAQAAqIqu6aIfPz8/Pfroo+Xdy686e/asTpw4obCwMElSmzZt5OPjoy1btmjAgAGSfr6W6dChQ5o3b54kKSYmRk6nU3v37tVdd90l6edHBDidTjM0AQAAaytTIFq/fr1iY2Pl4+Oj9evXX7U2Pj6+zBs/f/68vvrqK/P18ePHlZqaqsDAQAUGBmrWrFnq37+/wsLClJ6erieffFJ16tTRAw88IElyOBwaPny4Jk2apKCgIAUGBmry5Mlq2bKleddZdHS0evfurREjRui1116TJD366KOKi4vjDjMAACDJja/uKLo4+Wpf42Gz2Vye//Nr9u/fry5dupivi67ZGTJkiBYvXqwvvvhCy5cv17lz5xQWFqYuXbrorbfekr+/v/meBQsWyNvbWwMGDFBeXp66deumpKQkeXl5mTWrVq3S+PHjzbvR4uPjr/rsIwAAYC02wzAMTzdxPcjJyZHD4ZDT6VRAQEC5zt1w2oZynQ+obtKf7ePpFspF2i3Rnm4BqLKij6ZVyLxl/ffb7dvuly9fbt72/ksFBQVavny5u9MBAAB4nNuB6OGHH3Z5BlGR3NxcPfzww+XSFAAAQGVyOxCV9vyekydPyuFwlEtTAAAAlanMt923bt3a/Mb5bt26uXxNR2FhoY4fP67evXtXSJMAAAAVqcyBqOjustTUVPXq1Us33nijuc7X11cNGzZU//79y71BAACAilbmQDRz5kwVFhYqMjJSvXr1Mh+OCAAAcL1z6xoiLy8vPfbYY7pw4UJF9QMAAFDp3L6oumXLlvr6668rohcAAACPcDsQ/fWvf9XkyZP1/vvvKyMjQzk5OS4LAADA9cbtL3ctupMsPj7e5fb7otvx3fnqDgAAgKrA7UD04YcfVkQfAAAAHuN2IOrUqVOp61JTU39LLwAAAB7h9jVEV3I6nXrllVd0xx13qE2bNuXREwAAQKW65kC0fft2DR48WGFhYXrppZd07733av/+/eXZGwAAQKVw65TZyZMnlZSUpDfeeEM//vijBgwYoIsXL+rtt99W8+bNK6pHAACAClXmI0T33nuvmjdvriNHjuill17SqVOn9NJLL1VkbwAAAJWizEeINm/erPHjx2vUqFFq0qRJRfYEAABQqcp8hOjjjz9Wbm6u2rZtq3bt2mnRokU6c+ZMRfYGAABQKcociGJiYrRkyRJlZGRo5MiRWrNmjerVq6fLly9ry5Ytys3Nrcg+AQAAKozbd5nVqlVLw4YN0yeffKIvvvhCkyZN0rPPPqvg4GDFx8dXRI8AAAAV6jc9h6hZs2aaN2+eTp48qTfffLO8egIAAKhUv/nBjJLk5eWlvn37av369eUxHQAAQKUql0AEAABwPSMQAQAAyyMQAQAAyyMQAQAAyyMQAQAAyyMQAQAAyyMQAQAAyyMQAQAAyyMQAQAAyyMQAQAAyyMQAQAAyyMQAQAAyyMQAQAAyyMQAQAAyyMQAQAAyyMQAQAAyyMQAQAAyyMQAQAAyyMQAQAAyyMQAQAAyyMQAQAAyyMQAQAAy/NoIProo4903333KTw8XDabTe+8847LesMwNGvWLIWHh6tmzZrq3LmzDh8+7FKTn5+vcePGqU6dOvLz81N8fLxOnjzpUpOdna3ExEQ5HA45HA4lJibq3LlzFbx3AADgeuHRQPTjjz+qVatWWrRoUYnr582bp/nz52vRokXat2+fQkND1aNHD+Xm5po1EyZM0Lp167RmzRp98sknOn/+vOLi4lRYWGjWJCQkKDU1VcnJyUpOTlZqaqoSExMrfP8AAMD1wduTG4+NjVVsbGyJ6wzD0MKFCzVjxgz169dPkvSPf/xDISEhWr16tUaOHCmn06mlS5dqxYoV6t69uyRp5cqVioiI0NatW9WrVy+lpaUpOTlZKSkpateunSRpyZIliomJ0bFjx9SsWbPK2VkAAFBlVdlriI4fP67MzEz17NnTHLPb7erUqZN27dolSTpw4IAuXrzoUhMeHq4WLVqYNbt375bD4TDDkCS1b99eDofDrClJfn6+cnJyXBYAAFA9VdlAlJmZKUkKCQlxGQ8JCTHXZWZmytfXV7Vr175qTXBwcLH5g4ODzZqSzJ0717zmyOFwKCIi4jftDwAAqLqqbCAqYrPZXF4bhlFs7EpX1pRU/2vzTJ8+XU6n01xOnDjhZucAAOB6UWUDUWhoqCQVO4qTlZVlHjUKDQ1VQUGBsrOzr1pz+vTpYvOfOXOm2NGnX7Lb7QoICHBZAABA9VRlA1FUVJRCQ0O1ZcsWc6ygoEA7d+5Uhw4dJElt2rSRj4+PS01GRoYOHTpk1sTExMjpdGrv3r1mzZ49e+R0Os0aAABgbR69y+z8+fP66quvzNfHjx9XamqqAgMD1aBBA02YMEFz5sxRkyZN1KRJE82ZM0e1atVSQkKCJMnhcGj48OGaNGmSgoKCFBgYqMmTJ6tly5bmXWfR0dHq3bu3RowYoddee02S9OijjyouLo47zAAAgCQPB6L9+/erS5cu5uuJEydKkoYMGaKkpCRNmTJFeXl5Gj16tLKzs9WuXTtt3rxZ/v7+5nsWLFggb29vDRgwQHl5eerWrZuSkpLk5eVl1qxatUrjx48370aLj48v9dlHAADAemyGYRiebuJ6kJOTI4fDIafTWe7XEzWctqFc5wOqm/Rn+3i6hXKRdku0p1sAqqzoo2kVMm9Z//2ustcQAQAAVBYCEQAAsDwCEQAAsDwCEQAAsDwCEQAAsDwCEQAAsDwCEQAAsDwCEQAAsDwCEQAAsDwCEQAAsDwCEQAAsDwCEQAAsDwCEQAAsDwCEQAAsDwCEQAAsDwCEQAAsDwCEQAAsDwCEQAAsDwCEQAAsDwCEQAAsDwCEQAAsDwCEQAAsDwCEQAAsDwCEQAAsDwCEQAAsDwCEQAAsDwCEQAAsDwCEQAAsDwCEQAAsDwCEQAAsDwCEQAAsDwCEQAAsDwCEQAAsDwCEQAAsDwCEQAAsDwCEQAAsDwCEQAAsDwCEQAAsDwCEQAAsDwCEQAAsDwCEQAAsDwCEQAAsDwCEQAAsDwCEQAAsDwCEQAAsLwqHYhmzZolm83msoSGhprrDcPQrFmzFB4erpo1a6pz5846fPiwyxz5+fkaN26c6tSpIz8/P8XHx+vkyZOVvSsAAKAKq9KBSJJuvfVWZWRkmMsXX3xhrps3b57mz5+vRYsWad++fQoNDVWPHj2Um5tr1kyYMEHr1q3TmjVr9Mknn+j8+fOKi4tTYWGhJ3YHAABUQd6ebuDXeHt7uxwVKmIYhhYuXKgZM2aoX79+kqR//OMfCgkJ0erVqzVy5Eg5nU4tXbpUK1asUPfu3SVJK1euVEREhLZu3apevXpV6r4AAICqqcofIfryyy8VHh6uqKgoPfTQQ/r6668lScePH1dmZqZ69uxp1trtdnXq1Em7du2SJB04cEAXL150qQkPD1eLFi3MmtLk5+crJyfHZQEAANVTlQ5E7dq10/Lly/XBBx9oyZIlyszMVIcOHXT27FllZmZKkkJCQlzeExISYq7LzMyUr6+vateuXWpNaebOnSuHw2EuERER5bhnAACgKqnSgSg2Nlb9+/dXy5Yt1b17d23YsEHSz6fGithsNpf3GIZRbOxKZamZPn26nE6nuZw4ceIa9wIAAFR1VToQXcnPz08tW7bUl19+aV5XdOWRnqysLPOoUWhoqAoKCpSdnV1qTWnsdrsCAgJcFgAAUD1dV4EoPz9faWlpCgsLU1RUlEJDQ7VlyxZzfUFBgXbu3KkOHTpIktq0aSMfHx+XmoyMDB06dMisAQAAqNJ3mU2ePFn33XefGjRooKysLD3zzDPKycnRkCFDZLPZNGHCBM2ZM0dNmjRRkyZNNGfOHNWqVUsJCQmSJIfDoeHDh2vSpEkKCgpSYGCgJk+ebJ6CAwAAkKp4IDp58qQGDRqk77//XnXr1lX79u2VkpKiyMhISdKUKVOUl5en0aNHKzs7W+3atdPmzZvl7+9vzrFgwQJ5e3trwIABysvLU7du3ZSUlCQvLy9P7RYAAKhibIZhGJ5u4nqQk5Mjh8Mhp9NZ7tcTNZy2oVznA6qb9Gf7eLqFcpF2S7SnWwCqrOijaRUyb1n//b6uriECAACoCAQiAABgeQQiAABgeQQiAABgeQQiAABgeQQiAABgeQQiAABgeQQiAABgeQQiAABgeQQiAABgeQQiAABgeQQiAABgeQQiAABgeQQiAABgeQQiAABgeQQiAABgeQQiAABgeQQiAABgeQQiAABgeQQiAABgeQQiAABgeQQiAABgeQQiAABgeQQiAABgeQQiAABgeQQiAABgeQQiAABgeQQiAABgeQQiAABgeQQiAABgeQQiAABgeQQiAABgeQQiAABgeQQiAABgeQQiAABgeQQiAABgeQQiAABgeQQiAABgeQQiAABgeQQiAABgeQQiAABgeQQiAABgeQQiAABgeQQiAABgeZYKRK+88oqioqJUo0YNtWnTRh9//LGnWwIAAFWAZQLRW2+9pQkTJmjGjBn67LPP1LFjR8XGxurbb7/1dGsAAMDDLBOI5s+fr+HDh+uRRx5RdHS0Fi5cqIiICC1evNjTrQEAAA/z9nQDlaGgoEAHDhzQtGnTXMZ79uypXbt2lfie/Px85efnm6+dTqckKScnp9z7u5z/U7nPCVQnFfF75wnnCws93QJQZVXU73nRvIZhXLXOEoHo+++/V2FhoUJCQlzGQ0JClJmZWeJ75s6dq9mzZxcbj4iIqJAeAZTOsdDTHQCocA5HhU6fm5srx1W2YYlAVMRms7m8Ngyj2FiR6dOna+LEiebry5cv64cfflBQUFCp70H1kJOTo4iICJ04cUIBAQGebgdABeD33DoMw1Bubq7Cw8OvWmeJQFSnTh15eXkVOxqUlZVV7KhREbvdLrvd7jJ20003VVSLqIICAgL4ixKo5vg9t4arHRkqYomLqn19fdWmTRtt2bLFZXzLli3q0KGDh7oCAABVhSWOEEnSxIkTlZiYqLZt2yomJkZ///vf9e233+qxxx7zdGsAAMDDLBOIBg4cqLNnz+qpp55SRkaGWrRooY0bNyoyMtLTraGKsdvtmjlzZrFTpgCqD37PcSWb8Wv3oQEAAFRzlriGCAAA4GoIRAAAwPIIRAAAwPIIRAAAwPIIRAAAwPIIRKh2hg4dKpvNJpvNJm9vbzVo0ECjRo1Sdna2WdOwYUOz5pfLs88+W2y+nj17ysvLSykpKSVuq2/fvhW5OwBK8cvf9V8uX331lSRpzpw58vLyKvH3Oikpqdi3D6Slpal+/frq16+f8vPztWPHjhLnt9lspX4PJq5fBCJUS71791ZGRobS09P1+uuv67333tPo0aNdaoqeSfXLZdy4cS413377rXbv3q2xY8dq6dKllbkLAMqg6Hf9l0tUVJQkadmyZZoyZYreeOONX51n37596tixo3r16qV//etfLs8nOnbsWLFtBAcHV9g+wTMs82BGWIvdbldoaKgkqX79+ho4cKCSkpJcavz9/c2a0ixbtkxxcXEaNWqU7rrrLi1cuFB+fn4V1TYAN/3yd/2Xdu7cqby8PD311FNavny5PvroI91zzz0lzrF9+3bdf//9euyxx/T8888XWx8cHMx3WVoAR4hQ7X399ddKTk6Wj4+PW+8zDEPLli3T4MGDdcstt6hp06b65z//WUFdAihPS5cu1aBBg+Tj46NBgwaVeoR33bp16tOnj5588skSwxCsg0CEaun999/XjTfeqJo1a+rmm2/WkSNHNHXqVJeaqVOn6sYbb3RZduzYYa7funWrfvrpJ/Xq1UuSNHjwYE6bAVVM0e960fLggw8qJydHb7/9tgYPHizp59/df//738rJyXF57/nz5/Xggw/qiSee0PTp00vdRv369V220axZswrdJ3gGp8xQLXXp0kWLFy/WTz/9pNdff13/+c9/il0f9MQTT2jo0KEuY/Xq1TP/e+nSpRo4cKC8vX/+NRk0aJCeeOIJHTt2jL8QgSqi6He9iJ+fn1avXq1GjRqpVatWkqTbb79djRo10po1a/Too4+atTVr1tTdd9+tJUuWaNCgQYqOji5xGx9//LH8/f3N10V/J6B64QgRqiU/Pz81btxYt912m/72t78pPz9fs2fPdqmpU6eOGjdu7LLUrFlTkvTDDz/onXfe0SuvvCJvb295e3urXr16unTpUpku0ARQOYp+14uWsLAwvfHGGzp8+LD5u+vt7a3Dhw8XO8Lr5eWld955R23atFGXLl105MiRErcRFRXlso2GDRtWwp6hshGIYAkzZ87U//7v/+rUqVNlql+1apXq16+vgwcPKjU11VwWLlyof/zjH7p06VIFdwzgWnzxxRfav3+/duzY4fK7+9FHH2nfvn06dOiQS73dbtfatWt11113qUuXLsXWwzo47gdL6Ny5s2699VbNmTNHixYtkiTl5uYWe5ZIrVq1FBAQoKVLl+r3v/+9WrRo4bI+MjJSU6dO1YYNG3T//fdLkpxOp1JTU13qAgMD1aBBg4rbIQAlWrp0qe66664S7yiLiYnR0qVLtWDBApdxX19fvf322xowYIC6du2qbdu2qWXLlub6rKwsXbhwweU9QUFBbt+ogaqNI0SwjIkTJ2rJkiU6ceKEJOkvf/mLwsLCXJYpU6bowIEDOnjwoPr3719sDn9/f/Xs2dPl0PuOHTvUunVrl+Uvf/lLpe0XgJ8VFBRo5cqVJf7uSlL//v21cuVKFRQUFFvn4+Ojf/7zn7rnnnvUtWtXff755+a6Zs2aFfu74sCBAxW2H/AMm2EYhqebAAAA8CSOEAEAAMsjEAEAAMsjEAEAAMsjEAEAAMsjEAEAAMsjEAEAAMsjEAEAAMsjEAEAAMsjEAEAAMsjEAEAAMsjEAEAAMv7/2lut/DqWek2AAAAAElFTkSuQmCC",
=======
      "text/plain": [
       "<BarContainer object of 2 artists>"
      ]
     },
     "execution_count": 21,
     "metadata": {},
     "output_type": "execute_result"
    },
    {
     "data": {
      "image/png": "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",
>>>>>>> 2125737eb965d00654726c6d4d23b048f8e41dd2
      "text/plain": [
       "<Figure size 640x480 with 1 Axes>"
      ]
     },
     "metadata": {},
     "output_type": "display_data"
    }
   ],
   "source": [
<<<<<<< HEAD
    "# plt.bar(fake_count.index, fake_count['label'])\n",
    "\n",
    "fig, ax = plt.subplots()\n",
    "\n",
    "type = fake_count.index\n",
    "counts = fake_count['label']\n",
    "bar_labels = ['blue', 'red']\n",
    "bar_colors = ['tab:blue', 'tab:red']\n",
    "\n",
    "ax.bar(type, counts, color=bar_colors)\n",
    "\n",
    "ax.set_ylabel('Article Count')\n",
    "ax.set_title('Number of articles by type')\n",
    "# ax.legend(title='Article Type')\n",
    "\n",
    "plt.show()"
=======
    "plt.bar(fake_count.index, fake_count['label'])"
>>>>>>> 2125737eb965d00654726c6d4d23b048f8e41dd2
   ]
  }
 ],
 "metadata": {
  "kernelspec": {
   "display_name": "base",
   "language": "python",
   "name": "python3"
  },
  "language_info": {
   "codemirror_mode": {
    "name": "ipython",
    "version": 3
   },
   "file_extension": ".py",
   "mimetype": "text/x-python",
   "name": "python",
   "nbconvert_exporter": "python",
   "pygments_lexer": "ipython3",
   "version": "3.9.13"
  },
  "orig_nbformat": 4
 },
 "nbformat": 4,
 "nbformat_minor": 2
}
